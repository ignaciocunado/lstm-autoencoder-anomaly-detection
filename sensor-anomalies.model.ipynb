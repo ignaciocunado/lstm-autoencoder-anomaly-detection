{
 "cells": [
  {
   "cell_type": "code",
   "execution_count": null,
   "id": "initial_id",
   "metadata": {
    "collapsed": true
   },
   "outputs": [],
   "source": [
    "!pip install pandas\n",
    "!pip install numpy\n",
    "!pip install pyarrow\n",
    "!pip install keras\n",
    "!pip install scikit-learn\n",
    "!pip install tensorflow\n",
    "!pip install matplotlib\n",
    "!pip install seaborn"
   ]
  },
  {
   "cell_type": "code",
   "outputs": [],
   "source": [
    "import numpy as np\n",
    "import pandas as pd\n",
    "from keras.models import Sequential\n",
    "from keras.layers import Dense, LSTM, Dropout, TimeDistributed, RepeatVector, Flatten, Reshape\n",
    "from keras.callbacks import Callback\n",
    "from sklearn import metrics\n",
    "import matplotlib.pyplot as plt\n",
    "import seaborn as sns"
   ],
   "metadata": {
    "collapsed": false,
    "ExecuteTime": {
     "end_time": "2024-02-19T20:58:44.476140Z",
     "start_time": "2024-02-19T20:58:44.131Z"
    }
   },
   "id": "459dc03dac64d0ed",
   "execution_count": 75
  },
  {
   "cell_type": "markdown",
   "source": [
    "We will quickly read the data from our ETL pipeline."
   ],
   "metadata": {
    "collapsed": false
   },
   "id": "be073c408255d3e4"
  },
  {
   "cell_type": "code",
   "outputs": [],
   "source": [
    "x_train = pd.read_csv('data-etl/x_train.csv')\n",
    "y_train = pd.read_csv('data-etl/y_train.csv')\n",
    "\n",
    "x_test = pd.read_csv('data-etl/x_test.csv')\n",
    "y_test = pd.read_csv('data-etl/y_test.csv')"
   ],
   "metadata": {
    "collapsed": false,
    "ExecuteTime": {
     "end_time": "2024-02-19T20:30:31.922607Z",
     "start_time": "2024-02-19T20:30:31.882602Z"
    }
   },
   "id": "a2b9a120883dccbf",
   "execution_count": 61
  },
  {
   "cell_type": "markdown",
   "source": [
    "# Model Definition"
   ],
   "metadata": {
    "collapsed": false
   },
   "id": "40855a77a7e824c9"
  },
  {
   "cell_type": "code",
   "outputs": [],
   "source": [
    "batch_size = 64\n",
    "epochs = 50\n",
    "timesteps = 100\n",
    "dim = 1"
   ],
   "metadata": {
    "collapsed": false,
    "ExecuteTime": {
     "end_time": "2024-02-19T20:30:32.495867Z",
     "start_time": "2024-02-19T20:30:32.492494Z"
    }
   },
   "id": "b211f2e790d7cc3a",
   "execution_count": 62
  },
  {
   "cell_type": "code",
   "outputs": [],
   "source": [
    "def get_sequences(x, y, timesteps = 1):\n",
    "    Xs, Ys = [], []\n",
    "    for i in range(len(x) - timesteps):\n",
    "        Xs.append(x.iloc[i: (i + timesteps)].values)\n",
    "        Ys.append(y.iloc[i + timesteps])\n",
    "        \n",
    "    return np.array(Xs), np.array(Ys)"
   ],
   "metadata": {
    "collapsed": false,
    "ExecuteTime": {
     "end_time": "2024-02-19T20:30:33.404892Z",
     "start_time": "2024-02-19T20:30:33.400705Z"
    }
   },
   "id": "2842d9a7d2414417",
   "execution_count": 63
  },
  {
   "cell_type": "code",
   "outputs": [
    {
     "name": "stdout",
     "output_type": "stream",
     "text": [
      "46783 46783\n",
      "44991 44991\n"
     ]
    }
   ],
   "source": [
    "print(len(x_train), len(y_train))\n",
    "print(len(x_test), len(y_test))"
   ],
   "metadata": {
    "collapsed": false,
    "ExecuteTime": {
     "end_time": "2024-02-19T20:30:34.891829Z",
     "start_time": "2024-02-19T20:30:34.887218Z"
    }
   },
   "id": "a8b00d2add61430b",
   "execution_count": 64
  },
  {
   "cell_type": "code",
   "outputs": [],
   "source": [
    "x_train, y_train = get_sequences(x_train, y_train, timesteps)\n",
    "x_test, y_test = get_sequences(x_test, y_test, timesteps)"
   ],
   "metadata": {
    "collapsed": false,
    "ExecuteTime": {
     "end_time": "2024-02-19T20:30:39.556106Z",
     "start_time": "2024-02-19T20:30:36.681385Z"
    }
   },
   "id": "30b1dd0aee85cdea",
   "execution_count": 65
  },
  {
   "cell_type": "code",
   "outputs": [],
   "source": [
    "class LossHistory(Callback):\n",
    "    def on_train_begin(self, logs={}):\n",
    "        self.losses = []\n",
    "    def on_batch_end(self, batch, logs={}):\n",
    "        self.losses.append(logs.get('loss'))\n",
    "        \n",
    "lossHistory = LossHistory()"
   ],
   "metadata": {
    "collapsed": false,
    "ExecuteTime": {
     "end_time": "2024-02-19T20:30:40.277301Z",
     "start_time": "2024-02-19T20:30:40.273191Z"
    }
   },
   "id": "12ad0d10174317",
   "execution_count": 66
  },
  {
   "cell_type": "code",
   "outputs": [],
   "source": [
    "model = Sequential()\n",
    "model.add(LSTM(64, input_shape=(timesteps, dim)))\n",
    "model.add(Dropout(0.2))\n",
    "\n",
    "model.add(RepeatVector(n=timesteps))\n",
    "\n",
    "model.add(LSTM(64, return_sequences=True))\n",
    "model.add(Dropout(0.2))\n",
    "\n",
    "model.add(TimeDistributed(Dense(1, activation= 'sigmoid')))\n",
    "model.compile(loss='mae', optimizer='adam')"
   ],
   "metadata": {
    "collapsed": false,
    "ExecuteTime": {
     "end_time": "2024-02-19T20:30:57.270560Z",
     "start_time": "2024-02-19T20:30:57.132804Z"
    }
   },
   "id": "7ffbe8b6b06a338a",
   "execution_count": 68
  },
  {
   "cell_type": "markdown",
   "source": [
    "# Model Training"
   ],
   "metadata": {
    "collapsed": false
   },
   "id": "485a783d1a1c22d1"
  },
  {
   "cell_type": "code",
   "outputs": [],
   "source": [
    "def train(train, test):\n",
    "    model.fit(train, test, epochs=epochs, batch_size=batch_size, validation_split=0.1, callbacks=[lossHistory], shuffle=False)"
   ],
   "metadata": {
    "collapsed": false,
    "ExecuteTime": {
     "end_time": "2024-02-19T20:31:01.047334Z",
     "start_time": "2024-02-19T20:31:01.035419Z"
    }
   },
   "id": "35f1bbe4ea81b063",
   "execution_count": 69
  },
  {
   "cell_type": "code",
   "outputs": [],
   "source": [
    "def predict(data):\n",
    "    return model.predict(data)"
   ],
   "metadata": {
    "collapsed": false,
    "ExecuteTime": {
     "end_time": "2024-02-19T20:31:01.885078Z",
     "start_time": "2024-02-19T20:31:01.881343Z"
    }
   },
   "id": "b3682c85708b6135",
   "execution_count": 70
  },
  {
   "cell_type": "code",
   "outputs": [
    {
     "name": "stdout",
     "output_type": "stream",
     "text": [
      "Epoch 1/50\n",
      "657/657 [==============================] - 35s 52ms/step - loss: 0.0081 - val_loss: 3.0732e-05\n",
      "Epoch 2/50\n",
      "657/657 [==============================] - 33s 50ms/step - loss: 2.8858e-05 - val_loss: 1.2866e-05\n",
      "Epoch 3/50\n",
      "657/657 [==============================] - 33s 50ms/step - loss: 1.4229e-05 - val_loss: 6.8516e-06\n",
      "Epoch 4/50\n",
      "657/657 [==============================] - 33s 50ms/step - loss: 8.2442e-06 - val_loss: 4.0724e-06\n",
      "Epoch 5/50\n",
      "657/657 [==============================] - 33s 49ms/step - loss: 5.1903e-06 - val_loss: 2.5750e-06\n",
      "Epoch 6/50\n",
      "657/657 [==============================] - 33s 50ms/step - loss: 3.4180e-06 - val_loss: 1.6939e-06\n",
      "Epoch 7/50\n",
      "657/657 [==============================] - 33s 50ms/step - loss: 2.3408e-06 - val_loss: 1.1405e-06\n",
      "Epoch 8/50\n",
      "657/657 [==============================] - 33s 50ms/step - loss: 1.6225e-06 - val_loss: 7.8172e-07\n",
      "Epoch 9/50\n",
      "657/657 [==============================] - 32s 49ms/step - loss: 1.1459e-06 - val_loss: 5.4179e-07\n",
      "Epoch 10/50\n",
      "657/657 [==============================] - 34s 52ms/step - loss: 8.1592e-07 - val_loss: 3.7862e-07\n",
      "Epoch 11/50\n",
      "657/657 [==============================] - 33s 50ms/step - loss: 5.8538e-07 - val_loss: 2.6604e-07\n",
      "Epoch 12/50\n",
      "657/657 [==============================] - 32s 49ms/step - loss: 4.2205e-07 - val_loss: 1.8776e-07\n",
      "Epoch 13/50\n",
      "657/657 [==============================] - 33s 50ms/step - loss: 3.0506e-07 - val_loss: 1.3299e-07\n",
      "Epoch 14/50\n",
      "657/657 [==============================] - 32s 49ms/step - loss: 2.2172e-07 - val_loss: 9.4409e-08\n",
      "Epoch 15/50\n",
      "657/657 [==============================] - 33s 50ms/step - loss: 1.6075e-07 - val_loss: 6.7227e-08\n",
      "Epoch 16/50\n",
      "657/657 [==============================] - 32s 49ms/step - loss: 1.1712e-07 - val_loss: 4.7976e-08\n",
      "Epoch 17/50\n",
      "657/657 [==============================] - 32s 49ms/step - loss: 8.6206e-08 - val_loss: 3.4241e-08\n",
      "Epoch 18/50\n",
      "657/657 [==============================] - 32s 49ms/step - loss: 6.2930e-08 - val_loss: 2.4511e-08\n",
      "Epoch 19/50\n",
      "657/657 [==============================] - 32s 49ms/step - loss: 4.6428e-08 - val_loss: 1.7571e-08\n",
      "Epoch 20/50\n",
      "657/657 [==============================] - 32s 49ms/step - loss: 3.3904e-08 - val_loss: 1.2653e-08\n",
      "Epoch 21/50\n",
      "657/657 [==============================] - 32s 49ms/step - loss: 2.5255e-08 - val_loss: 9.1249e-09\n",
      "Epoch 22/50\n",
      "657/657 [==============================] - 32s 49ms/step - loss: 1.8414e-08 - val_loss: 6.6377e-09\n",
      "Epoch 23/50\n",
      "657/657 [==============================] - 33s 50ms/step - loss: 1.3933e-08 - val_loss: 4.8342e-09\n",
      "Epoch 24/50\n",
      "657/657 [==============================] - 33s 50ms/step - loss: 1.0321e-08 - val_loss: 3.5562e-09\n",
      "Epoch 25/50\n",
      "657/657 [==============================] - 32s 49ms/step - loss: 7.8479e-09 - val_loss: 2.6322e-09\n",
      "Epoch 26/50\n",
      "657/657 [==============================] - 31s 48ms/step - loss: 5.9735e-09 - val_loss: 1.9683e-09\n",
      "Epoch 27/50\n",
      "657/657 [==============================] - 31s 48ms/step - loss: 4.6015e-09 - val_loss: 1.4891e-09\n",
      "Epoch 28/50\n",
      "657/657 [==============================] - 32s 48ms/step - loss: 3.5770e-09 - val_loss: 1.1409e-09\n",
      "Epoch 29/50\n",
      "657/657 [==============================] - 32s 49ms/step - loss: 2.7767e-09 - val_loss: 8.8973e-10\n",
      "Epoch 30/50\n",
      "657/657 [==============================] - 32s 49ms/step - loss: 2.2557e-09 - val_loss: 7.0265e-10\n",
      "Epoch 31/50\n",
      "657/657 [==============================] - 32s 49ms/step - loss: 1.7969e-09 - val_loss: 5.6571e-10\n",
      "Epoch 32/50\n",
      "657/657 [==============================] - 32s 49ms/step - loss: 1.4829e-09 - val_loss: 4.6304e-10\n",
      "Epoch 33/50\n",
      "657/657 [==============================] - 32s 49ms/step - loss: 1.2643e-09 - val_loss: 3.8376e-10\n",
      "Epoch 34/50\n",
      "657/657 [==============================] - 32s 49ms/step - loss: 1.0435e-09 - val_loss: 3.2439e-10\n",
      "Epoch 35/50\n",
      "657/657 [==============================] - 32s 49ms/step - loss: 9.0574e-10 - val_loss: 2.7797e-10\n",
      "Epoch 36/50\n",
      "657/657 [==============================] - 32s 49ms/step - loss: 7.8205e-10 - val_loss: 2.4164e-10\n",
      "Epoch 37/50\n",
      "657/657 [==============================] - 32s 49ms/step - loss: 6.9911e-10 - val_loss: 2.1230e-10\n",
      "Epoch 38/50\n",
      "657/657 [==============================] - 32s 49ms/step - loss: 6.2366e-10 - val_loss: 1.8861e-10\n",
      "Epoch 39/50\n",
      "657/657 [==============================] - 32s 49ms/step - loss: 5.6549e-10 - val_loss: 1.6908e-10\n",
      "Epoch 40/50\n",
      "657/657 [==============================] - 32s 49ms/step - loss: 5.0303e-10 - val_loss: 1.5312e-10\n",
      "Epoch 41/50\n",
      "657/657 [==============================] - 32s 49ms/step - loss: 4.6953e-10 - val_loss: 1.3952e-10\n",
      "Epoch 42/50\n",
      "657/657 [==============================] - 32s 49ms/step - loss: 4.2979e-10 - val_loss: 1.2801e-10\n",
      "Epoch 43/50\n",
      "657/657 [==============================] - 32s 49ms/step - loss: 3.9442e-10 - val_loss: 1.1825e-10\n",
      "Epoch 44/50\n",
      "657/657 [==============================] - 32s 49ms/step - loss: 3.6162e-10 - val_loss: 1.0991e-10\n",
      "Epoch 45/50\n",
      "657/657 [==============================] - 32s 49ms/step - loss: 3.4721e-10 - val_loss: 1.0246e-10\n",
      "Epoch 46/50\n",
      "657/657 [==============================] - 32s 49ms/step - loss: 3.2477e-10 - val_loss: 9.5954e-11\n",
      "Epoch 47/50\n",
      "657/657 [==============================] - 32s 49ms/step - loss: 3.0409e-10 - val_loss: 9.0211e-11\n",
      "Epoch 48/50\n",
      "657/657 [==============================] - 32s 48ms/step - loss: 2.9507e-10 - val_loss: 8.4995e-11\n",
      "Epoch 49/50\n",
      "657/657 [==============================] - 32s 49ms/step - loss: 2.7329e-10 - val_loss: 8.0415e-11\n",
      "Epoch 50/50\n",
      "657/657 [==============================] - 32s 49ms/step - loss: 2.6747e-10 - val_loss: 7.6217e-11\n"
     ]
    }
   ],
   "source": [
    "train(x_train, y_train)"
   ],
   "metadata": {
    "collapsed": false,
    "ExecuteTime": {
     "end_time": "2024-02-19T20:58:00.281615Z",
     "start_time": "2024-02-19T20:31:02.893394Z"
    }
   },
   "id": "80a28aa36d317148",
   "execution_count": 71
  },
  {
   "cell_type": "markdown",
   "source": [
    "# Model Evaluation"
   ],
   "metadata": {
    "collapsed": false
   },
   "id": "8bf2e70e5479b8c5"
  },
  {
   "cell_type": "code",
   "outputs": [
    {
     "name": "stdout",
     "output_type": "stream",
     "text": [
      "1459/1459 [==============================] - 12s 8ms/step\n"
     ]
    },
    {
     "data": {
      "text/plain": "array([[0.33391369],\n       [0.32448143],\n       [0.31527437],\n       ...,\n       [0.07480984],\n       [0.07538824],\n       [0.07591331]])"
     },
     "execution_count": 76,
     "metadata": {},
     "output_type": "execute_result"
    }
   ],
   "source": [
    "reconstructions_train = predict(x_train)\n",
    "train_mae = np.mean(np.abs(reconstructions_train - x_train), axis=1)\n",
    "train_mae"
   ],
   "metadata": {
    "collapsed": false,
    "ExecuteTime": {
     "end_time": "2024-02-19T20:59:37.982801Z",
     "start_time": "2024-02-19T20:59:25.585881Z"
    }
   },
   "id": "9bb5a5b30f5cb60b",
   "execution_count": 76
  },
  {
   "cell_type": "code",
   "outputs": [
    {
     "data": {
      "text/plain": "<Axes: ylabel='Count'>"
     },
     "execution_count": 79,
     "metadata": {},
     "output_type": "execute_result"
    },
    {
     "data": {
      "text/plain": "<Figure size 640x480 with 1 Axes>",
      "image/png": "[encoded data removed]"
     },
     "metadata": {},
     "output_type": "display_data"
    }
   ],
   "source": [
    "sns.histplot(train_mae, bins = 50, kde=True)"
   ],
   "metadata": {
    "collapsed": false,
    "ExecuteTime": {
     "end_time": "2024-02-19T21:01:56.138913Z",
     "start_time": "2024-02-19T21:01:55.872422Z"
    }
   },
   "id": "e4be6e484db77f44",
   "execution_count": 79
  },
  {
   "cell_type": "raw",
   "source": [
    "We choose a threshold according to this plot."
   ],
   "metadata": {
    "collapsed": false
   },
   "id": "e45b237edc9c67c3"
  },
  {
   "cell_type": "code",
   "outputs": [],
   "source": [
    "threshold = 1.0"
   ],
   "metadata": {
    "collapsed": false,
    "ExecuteTime": {
     "end_time": "2024-02-19T21:02:03.414268Z",
     "start_time": "2024-02-19T21:02:03.410828Z"
    }
   },
   "id": "355f7c5df09d6cba",
   "execution_count": 80
  },
  {
   "cell_type": "code",
   "outputs": [
    {
     "name": "stdout",
     "output_type": "stream",
     "text": [
      "1403/1403 [==============================] - 12s 8ms/step\n"
     ]
    },
    {
     "data": {
      "text/plain": "array([[0.18325474],\n       [0.18736046],\n       [0.19167123],\n       ...,\n       [0.07657823],\n       [0.07700966],\n       [0.07741501]])"
     },
     "execution_count": 81,
     "metadata": {},
     "output_type": "execute_result"
    }
   ],
   "source": [
    "reconstructions_test = predict(x_test)\n",
    "test_mae = np.mean(np.abs(reconstructions_test - x_test), axis=1)\n",
    "test_mae"
   ],
   "metadata": {
    "collapsed": false,
    "ExecuteTime": {
     "end_time": "2024-02-19T21:02:19.004228Z",
     "start_time": "2024-02-19T21:02:07.361530Z"
    }
   },
   "id": "c2d841dfbe82e1a1",
   "execution_count": 81
  },
  {
   "cell_type": "code",
   "outputs": [],
   "source": [
    "x_test = pd.read_csv('data-etl/x_test.csv')\n",
    "y_test = pd.read_csv('data-etl/y_test.csv')\n",
    "\n",
    "test_df = pd.DataFrame(index = x_test[timesteps:].index)\n",
    "test_df['Loss'] = test_mae\n",
    "test_df['Threshold'] = threshold\n",
    "test_df['Anomaly'] = test_df.Loss > test_df.Threshold"
   ],
   "metadata": {
    "collapsed": false,
    "ExecuteTime": {
     "end_time": "2024-02-19T21:26:48.506061Z",
     "start_time": "2024-02-19T21:26:48.483620Z"
    }
   },
   "id": "6784bf7abfe8a0d4",
   "execution_count": 95
  },
  {
   "cell_type": "code",
   "outputs": [],
   "source": [
    "anomalies = test_df[['Anomaly']]"
   ],
   "metadata": {
    "collapsed": false,
    "ExecuteTime": {
     "end_time": "2024-02-19T21:26:49.370981Z",
     "start_time": "2024-02-19T21:26:49.369446Z"
    }
   },
   "id": "ec6e24d433e082fe",
   "execution_count": 96
  },
  {
   "cell_type": "code",
   "outputs": [
    {
     "name": "stdout",
     "output_type": "stream",
     "text": [
      "44891 44991\n"
     ]
    },
    {
     "data": {
      "text/plain": "       0.000000000000000000e+00  0.000000000000000000e+00.1\n0                          10.0                         0.0\n1                          20.0                         0.0\n2                          30.0                         0.0\n3                          40.0                         0.0\n4                          50.0                         0.0\n...                         ...                         ...\n44986                  449870.0                         0.0\n44987                  449880.0                         0.0\n44988                  449890.0                         0.0\n44989                  449900.0                         0.0\n44990                  449910.0                         0.0\n\n[44991 rows x 2 columns]",
      "text/html": "<div>\n<style scoped>\n    .dataframe tbody tr th:only-of-type {\n        vertical-align: middle;\n    }\n\n    .dataframe tbody tr th {\n        vertical-align: top;\n    }\n\n    .dataframe thead th {\n        text-align: right;\n    }\n</style>\n<table border=\"1\" class=\"dataframe\">\n  <thead>\n    <tr style=\"text-align: right;\">\n      <th></th>\n      <th>0.000000000000000000e+00</th>\n      <th>0.000000000000000000e+00.1</th>\n    </tr>\n  </thead>\n  <tbody>\n    <tr>\n      <th>0</th>\n      <td>10.0</td>\n      <td>0.0</td>\n    </tr>\n    <tr>\n      <th>1</th>\n      <td>20.0</td>\n      <td>0.0</td>\n    </tr>\n    <tr>\n      <th>2</th>\n      <td>30.0</td>\n      <td>0.0</td>\n    </tr>\n    <tr>\n      <th>3</th>\n      <td>40.0</td>\n      <td>0.0</td>\n    </tr>\n    <tr>\n      <th>4</th>\n      <td>50.0</td>\n      <td>0.0</td>\n    </tr>\n    <tr>\n      <th>...</th>\n      <td>...</td>\n      <td>...</td>\n    </tr>\n    <tr>\n      <th>44986</th>\n      <td>449870.0</td>\n      <td>0.0</td>\n    </tr>\n    <tr>\n      <th>44987</th>\n      <td>449880.0</td>\n      <td>0.0</td>\n    </tr>\n    <tr>\n      <th>44988</th>\n      <td>449890.0</td>\n      <td>0.0</td>\n    </tr>\n    <tr>\n      <th>44989</th>\n      <td>449900.0</td>\n      <td>0.0</td>\n    </tr>\n    <tr>\n      <th>44990</th>\n      <td>449910.0</td>\n      <td>0.0</td>\n    </tr>\n  </tbody>\n</table>\n<p>44991 rows × 2 columns</p>\n</div>"
     },
     "execution_count": 97,
     "metadata": {},
     "output_type": "execute_result"
    }
   ],
   "source": [
    "print(len(anomalies), len(y_test))\n",
    "y_test"
   ],
   "metadata": {
    "collapsed": false,
    "ExecuteTime": {
     "end_time": "2024-02-19T21:29:16.018001Z",
     "start_time": "2024-02-19T21:29:16.008100Z"
    }
   },
   "id": "b6a3f36c7c97e8e6",
   "execution_count": 97
  },
  {
   "cell_type": "code",
   "outputs": [
    {
     "ename": "ValueError",
     "evalue": "Classification metrics can't handle a mix of multiclass-multioutput and binary targets",
     "output_type": "error",
     "traceback": [
      "\u001B[0;31m---------------------------------------------------------------------------\u001B[0m",
      "\u001B[0;31mValueError\u001B[0m                                Traceback (most recent call last)",
      "Cell \u001B[0;32mIn[92], line 1\u001B[0m\n\u001B[0;32m----> 1\u001B[0m \u001B[38;5;28mprint\u001B[39m(\u001B[43mmetrics\u001B[49m\u001B[38;5;241;43m.\u001B[39;49m\u001B[43mclassification_report\u001B[49m\u001B[43m(\u001B[49m\u001B[43my_test\u001B[49m\u001B[43m,\u001B[49m\u001B[43m \u001B[49m\u001B[43manomalies\u001B[49m\u001B[43m,\u001B[49m\u001B[43m \u001B[49m\u001B[43mzero_division\u001B[49m\u001B[38;5;241;43m=\u001B[39;49m\u001B[38;5;241;43m0.0\u001B[39;49m\u001B[43m)\u001B[49m)\n",
      "File \u001B[0;32m~/Documents/Ignacio/GitHub/sensor-anomalies/venv/lib/python3.9/site-packages/sklearn/utils/_param_validation.py:213\u001B[0m, in \u001B[0;36mvalidate_params.<locals>.decorator.<locals>.wrapper\u001B[0;34m(*args, **kwargs)\u001B[0m\n\u001B[1;32m    207\u001B[0m \u001B[38;5;28;01mtry\u001B[39;00m:\n\u001B[1;32m    208\u001B[0m     \u001B[38;5;28;01mwith\u001B[39;00m config_context(\n\u001B[1;32m    209\u001B[0m         skip_parameter_validation\u001B[38;5;241m=\u001B[39m(\n\u001B[1;32m    210\u001B[0m             prefer_skip_nested_validation \u001B[38;5;129;01mor\u001B[39;00m global_skip_validation\n\u001B[1;32m    211\u001B[0m         )\n\u001B[1;32m    212\u001B[0m     ):\n\u001B[0;32m--> 213\u001B[0m         \u001B[38;5;28;01mreturn\u001B[39;00m \u001B[43mfunc\u001B[49m\u001B[43m(\u001B[49m\u001B[38;5;241;43m*\u001B[39;49m\u001B[43margs\u001B[49m\u001B[43m,\u001B[49m\u001B[43m \u001B[49m\u001B[38;5;241;43m*\u001B[39;49m\u001B[38;5;241;43m*\u001B[39;49m\u001B[43mkwargs\u001B[49m\u001B[43m)\u001B[49m\n\u001B[1;32m    214\u001B[0m \u001B[38;5;28;01mexcept\u001B[39;00m InvalidParameterError \u001B[38;5;28;01mas\u001B[39;00m e:\n\u001B[1;32m    215\u001B[0m     \u001B[38;5;66;03m# When the function is just a wrapper around an estimator, we allow\u001B[39;00m\n\u001B[1;32m    216\u001B[0m     \u001B[38;5;66;03m# the function to delegate validation to the estimator, but we replace\u001B[39;00m\n\u001B[1;32m    217\u001B[0m     \u001B[38;5;66;03m# the name of the estimator by the name of the function in the error\u001B[39;00m\n\u001B[1;32m    218\u001B[0m     \u001B[38;5;66;03m# message to avoid confusion.\u001B[39;00m\n\u001B[1;32m    219\u001B[0m     msg \u001B[38;5;241m=\u001B[39m re\u001B[38;5;241m.\u001B[39msub(\n\u001B[1;32m    220\u001B[0m         \u001B[38;5;124mr\u001B[39m\u001B[38;5;124m\"\u001B[39m\u001B[38;5;124mparameter of \u001B[39m\u001B[38;5;124m\\\u001B[39m\u001B[38;5;124mw+ must be\u001B[39m\u001B[38;5;124m\"\u001B[39m,\n\u001B[1;32m    221\u001B[0m         \u001B[38;5;124mf\u001B[39m\u001B[38;5;124m\"\u001B[39m\u001B[38;5;124mparameter of \u001B[39m\u001B[38;5;132;01m{\u001B[39;00mfunc\u001B[38;5;241m.\u001B[39m\u001B[38;5;18m__qualname__\u001B[39m\u001B[38;5;132;01m}\u001B[39;00m\u001B[38;5;124m must be\u001B[39m\u001B[38;5;124m\"\u001B[39m,\n\u001B[1;32m    222\u001B[0m         \u001B[38;5;28mstr\u001B[39m(e),\n\u001B[1;32m    223\u001B[0m     )\n",
      "File \u001B[0;32m~/Documents/Ignacio/GitHub/sensor-anomalies/venv/lib/python3.9/site-packages/sklearn/metrics/_classification.py:2604\u001B[0m, in \u001B[0;36mclassification_report\u001B[0;34m(y_true, y_pred, labels, target_names, sample_weight, digits, output_dict, zero_division)\u001B[0m\n\u001B[1;32m   2469\u001B[0m \u001B[38;5;129m@validate_params\u001B[39m(\n\u001B[1;32m   2470\u001B[0m     {\n\u001B[1;32m   2471\u001B[0m         \u001B[38;5;124m\"\u001B[39m\u001B[38;5;124my_true\u001B[39m\u001B[38;5;124m\"\u001B[39m: [\u001B[38;5;124m\"\u001B[39m\u001B[38;5;124marray-like\u001B[39m\u001B[38;5;124m\"\u001B[39m, \u001B[38;5;124m\"\u001B[39m\u001B[38;5;124msparse matrix\u001B[39m\u001B[38;5;124m\"\u001B[39m],\n\u001B[0;32m   (...)\u001B[0m\n\u001B[1;32m   2495\u001B[0m     zero_division\u001B[38;5;241m=\u001B[39m\u001B[38;5;124m\"\u001B[39m\u001B[38;5;124mwarn\u001B[39m\u001B[38;5;124m\"\u001B[39m,\n\u001B[1;32m   2496\u001B[0m ):\n\u001B[1;32m   2497\u001B[0m \u001B[38;5;250m    \u001B[39m\u001B[38;5;124;03m\"\"\"Build a text report showing the main classification metrics.\u001B[39;00m\n\u001B[1;32m   2498\u001B[0m \n\u001B[1;32m   2499\u001B[0m \u001B[38;5;124;03m    Read more in the :ref:`User Guide <classification_report>`.\u001B[39;00m\n\u001B[0;32m   (...)\u001B[0m\n\u001B[1;32m   2601\u001B[0m \u001B[38;5;124;03m    <BLANKLINE>\u001B[39;00m\n\u001B[1;32m   2602\u001B[0m \u001B[38;5;124;03m    \"\"\"\u001B[39;00m\n\u001B[0;32m-> 2604\u001B[0m     y_type, y_true, y_pred \u001B[38;5;241m=\u001B[39m \u001B[43m_check_targets\u001B[49m\u001B[43m(\u001B[49m\u001B[43my_true\u001B[49m\u001B[43m,\u001B[49m\u001B[43m \u001B[49m\u001B[43my_pred\u001B[49m\u001B[43m)\u001B[49m\n\u001B[1;32m   2606\u001B[0m     \u001B[38;5;28;01mif\u001B[39;00m labels \u001B[38;5;129;01mis\u001B[39;00m \u001B[38;5;28;01mNone\u001B[39;00m:\n\u001B[1;32m   2607\u001B[0m         labels \u001B[38;5;241m=\u001B[39m unique_labels(y_true, y_pred)\n",
      "File \u001B[0;32m~/Documents/Ignacio/GitHub/sensor-anomalies/venv/lib/python3.9/site-packages/sklearn/metrics/_classification.py:94\u001B[0m, in \u001B[0;36m_check_targets\u001B[0;34m(y_true, y_pred)\u001B[0m\n\u001B[1;32m     91\u001B[0m     y_type \u001B[38;5;241m=\u001B[39m {\u001B[38;5;124m\"\u001B[39m\u001B[38;5;124mmulticlass\u001B[39m\u001B[38;5;124m\"\u001B[39m}\n\u001B[1;32m     93\u001B[0m \u001B[38;5;28;01mif\u001B[39;00m \u001B[38;5;28mlen\u001B[39m(y_type) \u001B[38;5;241m>\u001B[39m \u001B[38;5;241m1\u001B[39m:\n\u001B[0;32m---> 94\u001B[0m     \u001B[38;5;28;01mraise\u001B[39;00m \u001B[38;5;167;01mValueError\u001B[39;00m(\n\u001B[1;32m     95\u001B[0m         \u001B[38;5;124m\"\u001B[39m\u001B[38;5;124mClassification metrics can\u001B[39m\u001B[38;5;124m'\u001B[39m\u001B[38;5;124mt handle a mix of \u001B[39m\u001B[38;5;132;01m{0}\u001B[39;00m\u001B[38;5;124m and \u001B[39m\u001B[38;5;132;01m{1}\u001B[39;00m\u001B[38;5;124m targets\u001B[39m\u001B[38;5;124m\"\u001B[39m\u001B[38;5;241m.\u001B[39mformat(\n\u001B[1;32m     96\u001B[0m             type_true, type_pred\n\u001B[1;32m     97\u001B[0m         )\n\u001B[1;32m     98\u001B[0m     )\n\u001B[1;32m    100\u001B[0m \u001B[38;5;66;03m# We can't have more than one value on y_type => The set is no more needed\u001B[39;00m\n\u001B[1;32m    101\u001B[0m y_type \u001B[38;5;241m=\u001B[39m y_type\u001B[38;5;241m.\u001B[39mpop()\n",
      "\u001B[0;31mValueError\u001B[0m: Classification metrics can't handle a mix of multiclass-multioutput and binary targets"
     ]
    }
   ],
   "source": [
    "print(metrics.classification_report(y_test, anomalies, zero_division=0.0))"
   ],
   "metadata": {
    "collapsed": false,
    "ExecuteTime": {
     "end_time": "2024-02-19T21:25:49.650523Z",
     "start_time": "2024-02-19T21:25:49.589866Z"
    }
   },
   "id": "648b30b18b42151e",
   "execution_count": 92
  },
  {
   "cell_type": "code",
   "outputs": [],
   "source": [],
   "metadata": {
    "collapsed": false
   },
   "id": "742809e847ba217c"
  }
 ],
 "metadata": {
  "kernelspec": {
   "display_name": "Python 3",
   "language": "python",
   "name": "python3"
  },
  "language_info": {
   "codemirror_mode": {
    "name": "ipython",
    "version": 2
   },
   "file_extension": ".py",
   "mimetype": "text/x-python",
   "name": "python",
   "nbconvert_exporter": "python",
   "pygments_lexer": "ipython2",
   "version": "2.7.6"
  }
 },
 "nbformat": 4,
 "nbformat_minor": 5
}
