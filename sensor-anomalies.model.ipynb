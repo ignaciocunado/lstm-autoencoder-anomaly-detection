{
 "cells": [
  {
   "cell_type": "code",
   "execution_count": null,
   "id": "initial_id",
   "metadata": {
    "collapsed": true
   },
   "outputs": [],
   "source": [
    "!pip install pandas\n",
    "!pip install numpy\n",
    "!pip install pyarrow\n",
    "!pip install keras\n",
    "!pip install scikit-learn\n",
    "!pip install tensorflow\n",
    "!pip install matplotlib\n",
    "!pip install seaborn"
   ]
  },
  {
   "cell_type": "code",
   "outputs": [],
   "source": [
    "import numpy as np\n",
    "import pandas as pd\n",
    "from keras.models import Sequential\n",
    "from keras.layers import Dense, LSTM, Dropout, TimeDistributed, RepeatVector, Flatten, Reshape\n",
    "from keras.callbacks import Callback\n",
    "from sklearn import metrics\n",
    "import seaborn as sns\n",
    "import matplotlib.pyplot as plt"
   ],
   "metadata": {
    "collapsed": false,
    "ExecuteTime": {
     "end_time": "2024-02-19T22:07:19.056588Z",
     "start_time": "2024-02-19T22:07:19.051552Z"
    }
   },
   "id": "459dc03dac64d0ed",
   "execution_count": 42
  },
  {
   "cell_type": "markdown",
   "source": [
    "We will quickly read the data from our ETL pipeline."
   ],
   "metadata": {
    "collapsed": false
   },
   "id": "be073c408255d3e4"
  },
  {
   "cell_type": "code",
   "outputs": [],
   "source": [
    "x_train = pd.read_csv('data-etl/x_train.csv')\n",
    "y_train = pd.read_csv('data-etl/y_train.csv')\n",
    "\n",
    "x_test = pd.read_csv('data-etl/x_test.csv')\n",
    "y_test = pd.read_csv('data-etl/y_test.csv')"
   ],
   "metadata": {
    "collapsed": false,
    "ExecuteTime": {
     "end_time": "2024-02-19T22:07:19.396467Z",
     "start_time": "2024-02-19T22:07:19.365641Z"
    }
   },
   "id": "a2b9a120883dccbf",
   "execution_count": 43
  },
  {
   "cell_type": "markdown",
   "source": [
    "# Model Definition"
   ],
   "metadata": {
    "collapsed": false
   },
   "id": "40855a77a7e824c9"
  },
  {
   "cell_type": "code",
   "outputs": [],
   "source": [
    "batch_size = 64\n",
    "epochs = 15\n",
    "timesteps = 100\n",
    "dim = 1"
   ],
   "metadata": {
    "collapsed": false,
    "ExecuteTime": {
     "end_time": "2024-02-19T22:07:19.660391Z",
     "start_time": "2024-02-19T22:07:19.657432Z"
    }
   },
   "id": "b211f2e790d7cc3a",
   "execution_count": 44
  },
  {
   "cell_type": "code",
   "outputs": [],
   "source": [
    "def get_sequences(x, y, timesteps = 1):\n",
    "    Xs, Ys = [], []\n",
    "    for i in range(len(x) - timesteps):\n",
    "        Xs.append(x.iloc[i: (i + timesteps)].values)\n",
    "        Ys.append(y.iloc[i + timesteps])\n",
    "        \n",
    "    return np.array(Xs), np.array(Ys)"
   ],
   "metadata": {
    "collapsed": false,
    "ExecuteTime": {
     "end_time": "2024-02-19T22:07:19.808487Z",
     "start_time": "2024-02-19T22:07:19.806818Z"
    }
   },
   "id": "2842d9a7d2414417",
   "execution_count": 45
  },
  {
   "cell_type": "code",
   "outputs": [
    {
     "name": "stdout",
     "output_type": "stream",
     "text": [
      "46783 46783\n",
      "44991 44991\n"
     ]
    }
   ],
   "source": [
    "print(len(x_train), len(y_train))\n",
    "print(len(x_test), len(y_test))"
   ],
   "metadata": {
    "collapsed": false,
    "ExecuteTime": {
     "end_time": "2024-02-19T22:07:19.949300Z",
     "start_time": "2024-02-19T22:07:19.945895Z"
    }
   },
   "id": "a8b00d2add61430b",
   "execution_count": 46
  },
  {
   "cell_type": "code",
   "outputs": [],
   "source": [
    "x_train, y_train = get_sequences(x_train, y_train, timesteps)\n",
    "x_test, y_test = get_sequences(x_test, y_test, timesteps)"
   ],
   "metadata": {
    "collapsed": false,
    "ExecuteTime": {
     "end_time": "2024-02-19T22:07:22.724300Z",
     "start_time": "2024-02-19T22:07:20.443390Z"
    }
   },
   "id": "30b1dd0aee85cdea",
   "execution_count": 47
  },
  {
   "cell_type": "code",
   "outputs": [],
   "source": [
    "class LossHistory(Callback):\n",
    "    def on_train_begin(self, logs={}):\n",
    "        self.losses = []\n",
    "    def on_batch_end(self, batch, logs={}):\n",
    "        self.losses.append(logs.get('loss'))\n",
    "        \n",
    "lossHistory = LossHistory()"
   ],
   "metadata": {
    "collapsed": false,
    "ExecuteTime": {
     "end_time": "2024-02-19T22:07:22.727778Z",
     "start_time": "2024-02-19T22:07:22.725526Z"
    }
   },
   "id": "12ad0d10174317",
   "execution_count": 48
  },
  {
   "cell_type": "code",
   "outputs": [],
   "source": [
    "model = Sequential()\n",
    "model.add(LSTM(64, input_shape=(timesteps, dim)))\n",
    "model.add(Dropout(0.2))\n",
    "\n",
    "model.add(RepeatVector(n=timesteps))\n",
    "\n",
    "model.add(LSTM(64, return_sequences=True))\n",
    "model.add(Dropout(0.2))\n",
    "\n",
    "model.add(TimeDistributed(Dense(1, activation= 'sigmoid')))\n",
    "model.compile(loss='mae', optimizer='adam')"
   ],
   "metadata": {
    "collapsed": false,
    "ExecuteTime": {
     "end_time": "2024-02-19T22:07:22.854356Z",
     "start_time": "2024-02-19T22:07:22.729283Z"
    }
   },
   "id": "7ffbe8b6b06a338a",
   "execution_count": 49
  },
  {
   "cell_type": "markdown",
   "source": [
    "# Model Training"
   ],
   "metadata": {
    "collapsed": false
   },
   "id": "485a783d1a1c22d1"
  },
  {
   "cell_type": "code",
   "outputs": [],
   "source": [
    "def train(train, test):\n",
    "    model.fit(train, test, epochs=epochs, batch_size=batch_size, validation_split=0.1, callbacks=[lossHistory], shuffle=False)"
   ],
   "metadata": {
    "collapsed": false,
    "ExecuteTime": {
     "end_time": "2024-02-19T22:07:22.858270Z",
     "start_time": "2024-02-19T22:07:22.855809Z"
    }
   },
   "id": "35f1bbe4ea81b063",
   "execution_count": 50
  },
  {
   "cell_type": "code",
   "outputs": [],
   "source": [
    "def predict(data):\n",
    "    return model.predict(data)"
   ],
   "metadata": {
    "collapsed": false,
    "ExecuteTime": {
     "end_time": "2024-02-19T22:07:22.860369Z",
     "start_time": "2024-02-19T22:07:22.857955Z"
    }
   },
   "id": "b3682c85708b6135",
   "execution_count": 51
  },
  {
   "cell_type": "code",
   "outputs": [
    {
     "name": "stdout",
     "output_type": "stream",
     "text": [
      "Epoch 1/15\n",
      "657/657 [==============================] - 35s 53ms/step - loss: 0.0087 - val_loss: 3.0990e-05\n",
      "Epoch 2/15\n",
      "657/657 [==============================] - 34s 52ms/step - loss: 2.7854e-05 - val_loss: 1.2453e-05\n",
      "Epoch 3/15\n",
      "657/657 [==============================] - 34s 52ms/step - loss: 1.3285e-05 - val_loss: 6.5298e-06\n",
      "Epoch 4/15\n",
      "657/657 [==============================] - 34s 52ms/step - loss: 7.6073e-06 - val_loss: 3.8488e-06\n",
      "Epoch 5/15\n",
      "657/657 [==============================] - 34s 52ms/step - loss: 4.7562e-06 - val_loss: 2.4219e-06\n",
      "Epoch 6/15\n",
      "657/657 [==============================] - 34s 52ms/step - loss: 3.1243e-06 - val_loss: 1.5873e-06\n",
      "Epoch 7/15\n",
      "657/657 [==============================] - 34s 52ms/step - loss: 2.1150e-06 - val_loss: 1.0693e-06\n",
      "Epoch 8/15\n",
      "657/657 [==============================] - 34s 52ms/step - loss: 1.4700e-06 - val_loss: 7.3286e-07\n",
      "Epoch 9/15\n",
      "657/657 [==============================] - 34s 52ms/step - loss: 1.0358e-06 - val_loss: 5.0834e-07\n",
      "Epoch 10/15\n",
      "657/657 [==============================] - 34s 52ms/step - loss: 7.3504e-07 - val_loss: 3.5588e-07\n",
      "Epoch 11/15\n",
      "657/657 [==============================] - 34s 52ms/step - loss: 5.2691e-07 - val_loss: 2.5064e-07\n",
      "Epoch 12/15\n",
      "657/657 [==============================] - 34s 52ms/step - loss: 3.8176e-07 - val_loss: 1.7708e-07\n",
      "Epoch 13/15\n",
      "657/657 [==============================] - 35s 53ms/step - loss: 2.7496e-07 - val_loss: 1.2567e-07\n",
      "Epoch 14/15\n",
      "657/657 [==============================] - 34s 52ms/step - loss: 1.9933e-07 - val_loss: 8.9441e-08\n",
      "Epoch 15/15\n",
      "657/657 [==============================] - 34s 51ms/step - loss: 1.4512e-07 - val_loss: 6.3806e-08\n"
     ]
    }
   ],
   "source": [
    "train(x_train, y_train)"
   ],
   "metadata": {
    "collapsed": false,
    "ExecuteTime": {
     "end_time": "2024-02-19T22:15:56.730849Z",
     "start_time": "2024-02-19T22:07:22.860708Z"
    }
   },
   "id": "80a28aa36d317148",
   "execution_count": 52
  },
  {
   "cell_type": "markdown",
   "source": [
    "# Model Evaluation"
   ],
   "metadata": {
    "collapsed": false
   },
   "id": "8bf2e70e5479b8c5"
  },
  {
   "cell_type": "code",
   "outputs": [
    {
     "name": "stdout",
     "output_type": "stream",
     "text": [
      "1459/1459 [==============================] - 12s 8ms/step\n"
     ]
    },
    {
     "data": {
      "text/plain": "array([[0.33391363],\n       [0.32448137],\n       [0.31527431],\n       ...,\n       [0.07480977],\n       [0.07538818],\n       [0.07591325]])"
     },
     "execution_count": 53,
     "metadata": {},
     "output_type": "execute_result"
    }
   ],
   "source": [
    "reconstructions_train = predict(x_train)\n",
    "train_mae = np.mean(np.abs(reconstructions_train - x_train), axis=1)\n",
    "train_mae"
   ],
   "metadata": {
    "collapsed": false,
    "ExecuteTime": {
     "end_time": "2024-02-19T22:16:08.844085Z",
     "start_time": "2024-02-19T22:15:56.730749Z"
    }
   },
   "id": "9bb5a5b30f5cb60b",
   "execution_count": 53
  },
  {
   "cell_type": "code",
   "outputs": [
    {
     "data": {
      "text/plain": "<Axes: ylabel='Count'>"
     },
     "execution_count": 54,
     "metadata": {},
     "output_type": "execute_result"
    },
    {
     "data": {
      "text/plain": "<Figure size 640x480 with 1 Axes>",
      "image/png": "[encoded data removed]"
     },
     "metadata": {},
     "output_type": "display_data"
    }
   ],
   "source": [
    "sns.histplot(train_mae, bins = 50, kde=True)"
   ],
   "metadata": {
    "collapsed": false,
    "ExecuteTime": {
     "end_time": "2024-02-19T22:16:09.120020Z",
     "start_time": "2024-02-19T22:16:08.845094Z"
    }
   },
   "id": "e4be6e484db77f44",
   "execution_count": 54
  },
  {
   "cell_type": "raw",
   "source": [
    "We choose a threshold according to this plot."
   ],
   "metadata": {
    "collapsed": false
   },
   "id": "e45b237edc9c67c3"
  },
  {
   "cell_type": "code",
   "outputs": [],
   "source": [
    "threshold = 0.9"
   ],
   "metadata": {
    "collapsed": false,
    "ExecuteTime": {
     "end_time": "2024-02-19T22:16:09.120897Z",
     "start_time": "2024-02-19T22:16:09.113047Z"
    }
   },
   "id": "355f7c5df09d6cba",
   "execution_count": 55
  },
  {
   "cell_type": "code",
   "outputs": [
    {
     "name": "stdout",
     "output_type": "stream",
     "text": [
      "1403/1403 [==============================] - 11s 8ms/step\n"
     ]
    }
   ],
   "source": [
    "reconstructions_test = predict(x_test)\n",
    "test_mae = np.mean(np.abs(reconstructions_test - x_test), axis=1)"
   ],
   "metadata": {
    "collapsed": false,
    "ExecuteTime": {
     "end_time": "2024-02-19T22:16:20.601915Z",
     "start_time": "2024-02-19T22:16:09.127935Z"
    }
   },
   "id": "c2d841dfbe82e1a1",
   "execution_count": 56
  },
  {
   "cell_type": "code",
   "outputs": [
    {
     "data": {
      "text/plain": "<Axes: ylabel='Count'>"
     },
     "execution_count": 57,
     "metadata": {},
     "output_type": "execute_result"
    },
    {
     "data": {
      "text/plain": "<Figure size 640x480 with 1 Axes>",
      "image/png": "[encoded data removed]"
     },
     "metadata": {},
     "output_type": "display_data"
    }
   ],
   "source": [
    "sns.histplot(test_mae, bins = 50, kde=True)"
   ],
   "metadata": {
    "collapsed": false,
    "ExecuteTime": {
     "end_time": "2024-02-19T22:16:20.895749Z",
     "start_time": "2024-02-19T22:16:20.602061Z"
    }
   },
   "id": "5a50b54d6febcfbf",
   "execution_count": 57
  },
  {
   "cell_type": "code",
   "outputs": [],
   "source": [
    "x_test = pd.read_csv('data-etl/x_test.csv')\n",
    "y_test = pd.read_csv('data-etl/y_test.csv')\n",
    "y_test = y_test[y_test.columns[1]]\n",
    "\n",
    "test_df = pd.DataFrame(index = x_test[timesteps:].index)\n",
    "test_df['Loss'] = test_mae\n",
    "test_df['Threshold'] = threshold\n",
    "test_df['Anomaly'] = test_df.Loss > test_df.Threshold"
   ],
   "metadata": {
    "collapsed": false,
    "ExecuteTime": {
     "end_time": "2024-02-19T22:17:23.001755Z",
     "start_time": "2024-02-19T22:17:22.978856Z"
    }
   },
   "id": "6784bf7abfe8a0d4",
   "execution_count": 59
  },
  {
   "cell_type": "code",
   "outputs": [],
   "source": [
    "anomalies = test_df[test_df['Anomaly'] == True]"
   ],
   "metadata": {
    "collapsed": false,
    "ExecuteTime": {
     "end_time": "2024-02-19T22:17:37.792521Z",
     "start_time": "2024-02-19T22:17:37.786664Z"
    }
   },
   "id": "ec6e24d433e082fe",
   "execution_count": 61
  },
  {
   "cell_type": "code",
   "outputs": [
    {
     "name": "stdout",
     "output_type": "stream",
     "text": [
      "              precision    recall  f1-score   support\n",
      "\n",
      "         0.0       0.99      0.97      0.98     41478\n",
      "         1.0       0.72      0.94      0.81      3413\n",
      "\n",
      "    accuracy                           0.97     44891\n",
      "   macro avg       0.86      0.95      0.90     44891\n",
      "weighted avg       0.97      0.97      0.97     44891\n"
     ]
    }
   ],
   "source": [
    "print(metrics.classification_report(y_test[timesteps:], test_df['Anomaly'], zero_division=0.0))"
   ],
   "metadata": {
    "collapsed": false,
    "ExecuteTime": {
     "end_time": "2024-02-19T22:17:51.019934Z",
     "start_time": "2024-02-19T22:17:50.984425Z"
    }
   },
   "id": "648b30b18b42151e",
   "execution_count": 63
  }
 ],
 "metadata": {
  "kernelspec": {
   "display_name": "Python 3",
   "language": "python",
   "name": "python3"
  },
  "language_info": {
   "codemirror_mode": {
    "name": "ipython",
    "version": 2
   },
   "file_extension": ".py",
   "mimetype": "text/x-python",
   "name": "python",
   "nbconvert_exporter": "python",
   "pygments_lexer": "ipython2",
   "version": "2.7.6"
  }
 },
 "nbformat": 4,
 "nbformat_minor": 5
}
