{
 "cells": [
  {
   "cell_type": "code",
   "execution_count": 1,
   "metadata": {
    "collapsed": true
   },
   "outputs": [
    {
     "name": "stdout",
     "output_type": "stream",
     "text": [
      "Requirement already satisfied: pandas in c:\\users\\ignac\\documents\\ignacio\\github\\sensor-anomalies\\venv\\lib\\site-packages (2.1.4)\n",
      "Requirement already satisfied: numpy<2,>=1.22.4 in c:\\users\\ignac\\documents\\ignacio\\github\\sensor-anomalies\\venv\\lib\\site-packages (from pandas) (1.26.3)\n",
      "Requirement already satisfied: python-dateutil>=2.8.2 in c:\\users\\ignac\\documents\\ignacio\\github\\sensor-anomalies\\venv\\lib\\site-packages (from pandas) (2.8.2)\n",
      "Requirement already satisfied: pytz>=2020.1 in c:\\users\\ignac\\documents\\ignacio\\github\\sensor-anomalies\\venv\\lib\\site-packages (from pandas) (2023.3.post1)\n",
      "Requirement already satisfied: tzdata>=2022.1 in c:\\users\\ignac\\documents\\ignacio\\github\\sensor-anomalies\\venv\\lib\\site-packages (from pandas) (2023.4)\n",
      "Requirement already satisfied: six>=1.5 in c:\\users\\ignac\\documents\\ignacio\\github\\sensor-anomalies\\venv\\lib\\site-packages (from python-dateutil>=2.8.2->pandas) (1.16.0)\n",
      "Requirement already satisfied: matplotlib in c:\\users\\ignac\\documents\\ignacio\\github\\sensor-anomalies\\venv\\lib\\site-packages (3.8.2)\n",
      "Requirement already satisfied: contourpy>=1.0.1 in c:\\users\\ignac\\documents\\ignacio\\github\\sensor-anomalies\\venv\\lib\\site-packages (from matplotlib) (1.2.0)\n",
      "Requirement already satisfied: cycler>=0.10 in c:\\users\\ignac\\documents\\ignacio\\github\\sensor-anomalies\\venv\\lib\\site-packages (from matplotlib) (0.12.1)\n",
      "Requirement already satisfied: fonttools>=4.22.0 in c:\\users\\ignac\\documents\\ignacio\\github\\sensor-anomalies\\venv\\lib\\site-packages (from matplotlib) (4.47.2)\n",
      "Requirement already satisfied: kiwisolver>=1.3.1 in c:\\users\\ignac\\documents\\ignacio\\github\\sensor-anomalies\\venv\\lib\\site-packages (from matplotlib) (1.4.5)\n",
      "Requirement already satisfied: numpy<2,>=1.21 in c:\\users\\ignac\\documents\\ignacio\\github\\sensor-anomalies\\venv\\lib\\site-packages (from matplotlib) (1.26.3)\n",
      "Requirement already satisfied: packaging>=20.0 in c:\\users\\ignac\\documents\\ignacio\\github\\sensor-anomalies\\venv\\lib\\site-packages (from matplotlib) (23.2)\n",
      "Requirement already satisfied: pillow>=8 in c:\\users\\ignac\\documents\\ignacio\\github\\sensor-anomalies\\venv\\lib\\site-packages (from matplotlib) (10.2.0)\n",
      "Requirement already satisfied: pyparsing>=2.3.1 in c:\\users\\ignac\\documents\\ignacio\\github\\sensor-anomalies\\venv\\lib\\site-packages (from matplotlib) (3.1.1)\n",
      "Requirement already satisfied: python-dateutil>=2.7 in c:\\users\\ignac\\documents\\ignacio\\github\\sensor-anomalies\\venv\\lib\\site-packages (from matplotlib) (2.8.2)\n",
      "Requirement already satisfied: six>=1.5 in c:\\users\\ignac\\documents\\ignacio\\github\\sensor-anomalies\\venv\\lib\\site-packages (from python-dateutil>=2.7->matplotlib) (1.16.0)\n",
      "Requirement already satisfied: numpy in c:\\users\\ignac\\documents\\ignacio\\github\\sensor-anomalies\\venv\\lib\\site-packages (1.26.3)\n"
     ]
    }
   ],
   "source": [
    "!pip install pandas\n",
    "!pip install matplotlib\n",
    "!pip install numpy"
   ]
  },
  {
   "cell_type": "code",
   "execution_count": 2,
   "outputs": [],
   "source": [
    "import numpy as np\n",
    "import matplotlib.pyplot as plt\n",
    "import pandas as pd"
   ],
   "metadata": {
    "collapsed": false
   }
  },
  {
   "cell_type": "markdown",
   "source": [
    "# Load Data"
   ],
   "metadata": {
    "collapsed": false
   }
  },
  {
   "cell_type": "markdown",
   "source": [
    "Data from 51 different sensors has been chosen, utilizing a train set consisting of 496800 samples and a test set with 449919 samples. Naturally, the train set can be expected to show normal behavior. This will be checked regardless."
   ],
   "metadata": {
    "collapsed": false
   }
  },
  {
   "cell_type": "code",
   "execution_count": 3,
   "outputs": [],
   "source": [
    "train = pd.read_csv('data-raw/train.csv', delimiter = ',', skipinitialspace = True)\n",
    "test = pd.read_csv('data-raw/test.csv', delimiter = ',', skipinitialspace = True)"
   ],
   "metadata": {
    "collapsed": false
   }
  },
  {
   "cell_type": "code",
   "execution_count": 4,
   "outputs": [
    {
     "data": {
      "text/plain": "               Timestamp    FIT101    LIT101  MV101  P101  P102    AIT201  \\\n0  22/12/2015 4:00:00 PM  2.470294  261.5804      2     2     1  244.3284   \n1  22/12/2015 4:00:01 PM  2.457163  261.1879      2     2     1  244.3284   \n2  22/12/2015 4:00:02 PM  2.439548  260.9131      2     2     1  244.3284   \n3  22/12/2015 4:00:03 PM  2.428338  260.2850      2     2     1  244.3284   \n4  22/12/2015 4:00:04 PM  2.424815  259.8925      2     2     1  244.4245   \n\n    AIT202   AIT203    FIT201  ...  P501  P502    PIT501  PIT502    PIT503  \\\n0  8.19008  306.101  2.471278  ...     1     1  10.02948     0.0  4.277749   \n1  8.19008  306.101  2.468587  ...     1     1  10.02948     0.0  4.277749   \n2  8.19008  306.101  2.467305  ...     1     1  10.02948     0.0  4.277749   \n3  8.19008  306.101  2.466536  ...     1     1  10.02948     0.0  4.277749   \n4  8.19008  306.101  2.466536  ...     1     1  10.02948     0.0  4.277749   \n\n     FIT601  P601  P602  P603  Normal/Attack  \n0  0.000256     1     1     1         Normal  \n1  0.000256     1     1     1         Normal  \n2  0.000256     1     1     1         Normal  \n3  0.000256     1     1     1         Normal  \n4  0.000256     1     1     1         Normal  \n\n[5 rows x 53 columns]",
      "text/html": "<div>\n<style scoped>\n    .dataframe tbody tr th:only-of-type {\n        vertical-align: middle;\n    }\n\n    .dataframe tbody tr th {\n        vertical-align: top;\n    }\n\n    .dataframe thead th {\n        text-align: right;\n    }\n</style>\n<table border=\"1\" class=\"dataframe\">\n  <thead>\n    <tr style=\"text-align: right;\">\n      <th></th>\n      <th>Timestamp</th>\n      <th>FIT101</th>\n      <th>LIT101</th>\n      <th>MV101</th>\n      <th>P101</th>\n      <th>P102</th>\n      <th>AIT201</th>\n      <th>AIT202</th>\n      <th>AIT203</th>\n      <th>FIT201</th>\n      <th>...</th>\n      <th>P501</th>\n      <th>P502</th>\n      <th>PIT501</th>\n      <th>PIT502</th>\n      <th>PIT503</th>\n      <th>FIT601</th>\n      <th>P601</th>\n      <th>P602</th>\n      <th>P603</th>\n      <th>Normal/Attack</th>\n    </tr>\n  </thead>\n  <tbody>\n    <tr>\n      <th>0</th>\n      <td>22/12/2015 4:00:00 PM</td>\n      <td>2.470294</td>\n      <td>261.5804</td>\n      <td>2</td>\n      <td>2</td>\n      <td>1</td>\n      <td>244.3284</td>\n      <td>8.19008</td>\n      <td>306.101</td>\n      <td>2.471278</td>\n      <td>...</td>\n      <td>1</td>\n      <td>1</td>\n      <td>10.02948</td>\n      <td>0.0</td>\n      <td>4.277749</td>\n      <td>0.000256</td>\n      <td>1</td>\n      <td>1</td>\n      <td>1</td>\n      <td>Normal</td>\n    </tr>\n    <tr>\n      <th>1</th>\n      <td>22/12/2015 4:00:01 PM</td>\n      <td>2.457163</td>\n      <td>261.1879</td>\n      <td>2</td>\n      <td>2</td>\n      <td>1</td>\n      <td>244.3284</td>\n      <td>8.19008</td>\n      <td>306.101</td>\n      <td>2.468587</td>\n      <td>...</td>\n      <td>1</td>\n      <td>1</td>\n      <td>10.02948</td>\n      <td>0.0</td>\n      <td>4.277749</td>\n      <td>0.000256</td>\n      <td>1</td>\n      <td>1</td>\n      <td>1</td>\n      <td>Normal</td>\n    </tr>\n    <tr>\n      <th>2</th>\n      <td>22/12/2015 4:00:02 PM</td>\n      <td>2.439548</td>\n      <td>260.9131</td>\n      <td>2</td>\n      <td>2</td>\n      <td>1</td>\n      <td>244.3284</td>\n      <td>8.19008</td>\n      <td>306.101</td>\n      <td>2.467305</td>\n      <td>...</td>\n      <td>1</td>\n      <td>1</td>\n      <td>10.02948</td>\n      <td>0.0</td>\n      <td>4.277749</td>\n      <td>0.000256</td>\n      <td>1</td>\n      <td>1</td>\n      <td>1</td>\n      <td>Normal</td>\n    </tr>\n    <tr>\n      <th>3</th>\n      <td>22/12/2015 4:00:03 PM</td>\n      <td>2.428338</td>\n      <td>260.2850</td>\n      <td>2</td>\n      <td>2</td>\n      <td>1</td>\n      <td>244.3284</td>\n      <td>8.19008</td>\n      <td>306.101</td>\n      <td>2.466536</td>\n      <td>...</td>\n      <td>1</td>\n      <td>1</td>\n      <td>10.02948</td>\n      <td>0.0</td>\n      <td>4.277749</td>\n      <td>0.000256</td>\n      <td>1</td>\n      <td>1</td>\n      <td>1</td>\n      <td>Normal</td>\n    </tr>\n    <tr>\n      <th>4</th>\n      <td>22/12/2015 4:00:04 PM</td>\n      <td>2.424815</td>\n      <td>259.8925</td>\n      <td>2</td>\n      <td>2</td>\n      <td>1</td>\n      <td>244.4245</td>\n      <td>8.19008</td>\n      <td>306.101</td>\n      <td>2.466536</td>\n      <td>...</td>\n      <td>1</td>\n      <td>1</td>\n      <td>10.02948</td>\n      <td>0.0</td>\n      <td>4.277749</td>\n      <td>0.000256</td>\n      <td>1</td>\n      <td>1</td>\n      <td>1</td>\n      <td>Normal</td>\n    </tr>\n  </tbody>\n</table>\n<p>5 rows × 53 columns</p>\n</div>"
     },
     "execution_count": 4,
     "metadata": {},
     "output_type": "execute_result"
    }
   ],
   "source": [
    "train.head()"
   ],
   "metadata": {
    "collapsed": false
   }
  },
  {
   "cell_type": "code",
   "execution_count": 5,
   "outputs": [
    {
     "data": {
      "text/plain": "                Timestamp    FIT101    LIT101  MV101  P101  P102    AIT201  \\\n0  28/12/2015 10:00:00 AM  2.427057  522.8467      2     2     1  262.0161   \n1  28/12/2015 10:00:01 AM  2.446274  522.8860      2     2     1  262.0161   \n2  28/12/2015 10:00:02 AM  2.489191  522.8467      2     2     1  262.0161   \n3  28/12/2015 10:00:03 AM  2.534350  522.9645      2     2     1  262.0161   \n4  28/12/2015 10:00:04 AM  2.569260  523.4748      2     2     1  262.0161   \n\n     AIT202    AIT203    FIT201  ...  P501  P502    PIT501    PIT502  \\\n0  8.396437  328.6337  2.445391  ...     2     1  250.8652  1.649953   \n1  8.396437  328.6337  2.445391  ...     2     1  250.8652  1.649953   \n2  8.394514  328.6337  2.442316  ...     2     1  250.8812  1.649953   \n3  8.394514  328.6337  2.442316  ...     2     1  250.8812  1.649953   \n4  8.394514  328.6337  2.443085  ...     2     1  250.8812  1.649953   \n\n     PIT503    FIT601  P601  P602  P603  Normal/Attack  \n0  189.5988  0.000128     1     1     1              ?  \n1  189.6789  0.000128     1     1     1              ?  \n2  189.6789  0.000128     1     1     1              ?  \n3  189.6148  0.000128     1     1     1              ?  \n4  189.5027  0.000128     1     1     1              ?  \n\n[5 rows x 53 columns]",
      "text/html": "<div>\n<style scoped>\n    .dataframe tbody tr th:only-of-type {\n        vertical-align: middle;\n    }\n\n    .dataframe tbody tr th {\n        vertical-align: top;\n    }\n\n    .dataframe thead th {\n        text-align: right;\n    }\n</style>\n<table border=\"1\" class=\"dataframe\">\n  <thead>\n    <tr style=\"text-align: right;\">\n      <th></th>\n      <th>Timestamp</th>\n      <th>FIT101</th>\n      <th>LIT101</th>\n      <th>MV101</th>\n      <th>P101</th>\n      <th>P102</th>\n      <th>AIT201</th>\n      <th>AIT202</th>\n      <th>AIT203</th>\n      <th>FIT201</th>\n      <th>...</th>\n      <th>P501</th>\n      <th>P502</th>\n      <th>PIT501</th>\n      <th>PIT502</th>\n      <th>PIT503</th>\n      <th>FIT601</th>\n      <th>P601</th>\n      <th>P602</th>\n      <th>P603</th>\n      <th>Normal/Attack</th>\n    </tr>\n  </thead>\n  <tbody>\n    <tr>\n      <th>0</th>\n      <td>28/12/2015 10:00:00 AM</td>\n      <td>2.427057</td>\n      <td>522.8467</td>\n      <td>2</td>\n      <td>2</td>\n      <td>1</td>\n      <td>262.0161</td>\n      <td>8.396437</td>\n      <td>328.6337</td>\n      <td>2.445391</td>\n      <td>...</td>\n      <td>2</td>\n      <td>1</td>\n      <td>250.8652</td>\n      <td>1.649953</td>\n      <td>189.5988</td>\n      <td>0.000128</td>\n      <td>1</td>\n      <td>1</td>\n      <td>1</td>\n      <td>?</td>\n    </tr>\n    <tr>\n      <th>1</th>\n      <td>28/12/2015 10:00:01 AM</td>\n      <td>2.446274</td>\n      <td>522.8860</td>\n      <td>2</td>\n      <td>2</td>\n      <td>1</td>\n      <td>262.0161</td>\n      <td>8.396437</td>\n      <td>328.6337</td>\n      <td>2.445391</td>\n      <td>...</td>\n      <td>2</td>\n      <td>1</td>\n      <td>250.8652</td>\n      <td>1.649953</td>\n      <td>189.6789</td>\n      <td>0.000128</td>\n      <td>1</td>\n      <td>1</td>\n      <td>1</td>\n      <td>?</td>\n    </tr>\n    <tr>\n      <th>2</th>\n      <td>28/12/2015 10:00:02 AM</td>\n      <td>2.489191</td>\n      <td>522.8467</td>\n      <td>2</td>\n      <td>2</td>\n      <td>1</td>\n      <td>262.0161</td>\n      <td>8.394514</td>\n      <td>328.6337</td>\n      <td>2.442316</td>\n      <td>...</td>\n      <td>2</td>\n      <td>1</td>\n      <td>250.8812</td>\n      <td>1.649953</td>\n      <td>189.6789</td>\n      <td>0.000128</td>\n      <td>1</td>\n      <td>1</td>\n      <td>1</td>\n      <td>?</td>\n    </tr>\n    <tr>\n      <th>3</th>\n      <td>28/12/2015 10:00:03 AM</td>\n      <td>2.534350</td>\n      <td>522.9645</td>\n      <td>2</td>\n      <td>2</td>\n      <td>1</td>\n      <td>262.0161</td>\n      <td>8.394514</td>\n      <td>328.6337</td>\n      <td>2.442316</td>\n      <td>...</td>\n      <td>2</td>\n      <td>1</td>\n      <td>250.8812</td>\n      <td>1.649953</td>\n      <td>189.6148</td>\n      <td>0.000128</td>\n      <td>1</td>\n      <td>1</td>\n      <td>1</td>\n      <td>?</td>\n    </tr>\n    <tr>\n      <th>4</th>\n      <td>28/12/2015 10:00:04 AM</td>\n      <td>2.569260</td>\n      <td>523.4748</td>\n      <td>2</td>\n      <td>2</td>\n      <td>1</td>\n      <td>262.0161</td>\n      <td>8.394514</td>\n      <td>328.6337</td>\n      <td>2.443085</td>\n      <td>...</td>\n      <td>2</td>\n      <td>1</td>\n      <td>250.8812</td>\n      <td>1.649953</td>\n      <td>189.5027</td>\n      <td>0.000128</td>\n      <td>1</td>\n      <td>1</td>\n      <td>1</td>\n      <td>?</td>\n    </tr>\n  </tbody>\n</table>\n<p>5 rows × 53 columns</p>\n</div>"
     },
     "execution_count": 5,
     "metadata": {},
     "output_type": "execute_result"
    }
   ],
   "source": [
    "test.head()"
   ],
   "metadata": {
    "collapsed": false
   }
  },
  {
   "cell_type": "markdown",
   "source": [
    "It can be seen the dataset contains multiple signals taken every second from various sensors. The test dataset contains no labels. The aim of the LSTM autoencoder will be to determine those and then compare them against the ground truth."
   ],
   "metadata": {
    "collapsed": false
   }
  },
  {
   "cell_type": "markdown",
   "source": [
    "Check whether all data in train is normal."
   ],
   "metadata": {
    "collapsed": false
   }
  },
  {
   "cell_type": "code",
   "execution_count": 6,
   "outputs": [
    {
     "name": "stdout",
     "output_type": "stream",
     "text": [
      "1.0\n"
     ]
    }
   ],
   "source": [
    "length = train.shape[0]\n",
    "filteredLength = train[train['Normal/Attack'] == 'Normal'].shape[0]\n",
    "print(filteredLength / length)"
   ],
   "metadata": {
    "collapsed": false
   }
  },
  {
   "cell_type": "markdown",
   "source": [
    "It can be seen that it is."
   ],
   "metadata": {
    "collapsed": false
   }
  },
  {
   "cell_type": "markdown",
   "source": [
    "# Visualization"
   ],
   "metadata": {
    "collapsed": false
   }
  },
  {
   "cell_type": "code",
   "execution_count": 7,
   "outputs": [],
   "source": [
    "def visualize_sensor_data(df, window=None, sensors=None):\n",
    "    # If window is None, visualize the entire dataset\n",
    "    if window is None:\n",
    "        start_index, end_index = 0, len(df)\n",
    "    else:\n",
    "        start_index, end_index = window\n",
    "\n",
    "    # If sensors is None, select all sensor columns\n",
    "    if sensors is None:\n",
    "        sensors = df.columns[1:-1]\n",
    "\n",
    "    # Plot each sensor in a different color\n",
    "    plt.figure(figsize=(15, 8))\n",
    "    for sensor in sensors:\n",
    "        plt.plot(df['Timestamp'][start_index:end_index], df[sensor][start_index:end_index], label=sensor)\n",
    "\n",
    "    plt.xlabel('Timestamp')\n",
    "    plt.ylabel('Sensor Values')\n",
    "    plt.title('Sensor Data Visualization')\n",
    "    plt.legend()\n",
    "\n",
    "    plt.show()"
   ],
   "metadata": {
    "collapsed": false
   }
  },
  {
   "cell_type": "code",
   "execution_count": null,
   "outputs": [],
   "source": [
    "visualize_sensor_data(train)"
   ],
   "metadata": {
    "collapsed": false,
    "pycharm": {
     "is_executing": true
    }
   }
  },
  {
   "cell_type": "markdown",
   "source": [
    "It is clear that some signals are correlated, others show cyclical behavior, and others have discrete outputs (analog). Moreover, some initialization can be seen at the beginning, and it takes some time for the signals to reach their regular values. In order to build a good anomaly detector, the first datapoints will be removed to get the train data behaving as normally as possible."
   ],
   "metadata": {
    "collapsed": false
   }
  },
  {
   "cell_type": "code",
   "execution_count": null,
   "outputs": [],
   "source": [
    "visualize_sensor_data(train[train['Timestamp'] > '2015-12-23'])"
   ],
   "metadata": {
    "collapsed": false,
    "pycharm": {
     "is_executing": true
    }
   }
  },
  {
   "cell_type": "markdown",
   "source": [
    "Great, train data now shows normal behavor. How does the test data look?"
   ],
   "metadata": {
    "collapsed": false
   }
  },
  {
   "cell_type": "code",
   "execution_count": null,
   "outputs": [],
   "source": [
    "visualize_sensor_data(test)"
   ],
   "metadata": {
    "collapsed": false,
    "pycharm": {
     "is_executing": true
    }
   }
  },
  {
   "cell_type": "markdown",
   "source": [
    "It is clear that this test data shows weird behavior and many anomalies."
   ],
   "metadata": {
    "collapsed": false
   }
  },
  {
   "cell_type": "markdown",
   "source": [
    "# Choosing a signal\n",
    "Sensor LIT101 will be used to check for anomalies, as it shows some interesting cyclical beahavior and clear anomalies."
   ],
   "metadata": {
    "collapsed": false
   }
  },
  {
   "cell_type": "code",
   "execution_count": null,
   "outputs": [],
   "source": [
    "visualize_sensor_data(train, sensors=['LIT101'])"
   ],
   "metadata": {
    "collapsed": false,
    "pycharm": {
     "is_executing": true
    }
   }
  },
  {
   "cell_type": "code",
   "execution_count": null,
   "outputs": [],
   "source": [
    "visualize_sensor_data(test, sensors=['LIT101'])"
   ],
   "metadata": {
    "collapsed": false,
    "pycharm": {
     "is_executing": true
    }
   }
  }
 ],
 "metadata": {
  "kernelspec": {
   "display_name": "Python 3",
   "language": "python",
   "name": "python3"
  },
  "language_info": {
   "codemirror_mode": {
    "name": "ipython",
    "version": 2
   },
   "file_extension": ".py",
   "mimetype": "text/x-python",
   "name": "python",
   "nbconvert_exporter": "python",
   "pygments_lexer": "ipython2",
   "version": "2.7.6"
  }
 },
 "nbformat": 4,
 "nbformat_minor": 0
}
