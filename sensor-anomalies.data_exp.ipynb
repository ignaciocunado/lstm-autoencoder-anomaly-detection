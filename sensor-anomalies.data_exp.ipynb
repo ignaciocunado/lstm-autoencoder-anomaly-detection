{
 "cells": [
  {
   "cell_type": "code",
   "execution_count": 1,
   "metadata": {
    "collapsed": true
   },
   "outputs": [
    {
     "name": "stdout",
     "output_type": "stream",
     "text": [
      "Requirement already satisfied: pandas in c:\\users\\ignac\\documents\\ignacio\\github\\sensor-anomalies\\venv\\lib\\site-packages (2.1.4)\n",
      "Requirement already satisfied: numpy<2,>=1.22.4 in c:\\users\\ignac\\documents\\ignacio\\github\\sensor-anomalies\\venv\\lib\\site-packages (from pandas) (1.26.3)\n",
      "Requirement already satisfied: python-dateutil>=2.8.2 in c:\\users\\ignac\\documents\\ignacio\\github\\sensor-anomalies\\venv\\lib\\site-packages (from pandas) (2.8.2)\n",
      "Requirement already satisfied: pytz>=2020.1 in c:\\users\\ignac\\documents\\ignacio\\github\\sensor-anomalies\\venv\\lib\\site-packages (from pandas) (2023.3.post1)\n",
      "Requirement already satisfied: tzdata>=2022.1 in c:\\users\\ignac\\documents\\ignacio\\github\\sensor-anomalies\\venv\\lib\\site-packages (from pandas) (2023.4)\n",
      "Requirement already satisfied: six>=1.5 in c:\\users\\ignac\\documents\\ignacio\\github\\sensor-anomalies\\venv\\lib\\site-packages (from python-dateutil>=2.8.2->pandas) (1.16.0)\n",
      "Requirement already satisfied: matplotlib in c:\\users\\ignac\\documents\\ignacio\\github\\sensor-anomalies\\venv\\lib\\site-packages (3.8.2)\n",
      "Requirement already satisfied: contourpy>=1.0.1 in c:\\users\\ignac\\documents\\ignacio\\github\\sensor-anomalies\\venv\\lib\\site-packages (from matplotlib) (1.2.0)\n",
      "Requirement already satisfied: cycler>=0.10 in c:\\users\\ignac\\documents\\ignacio\\github\\sensor-anomalies\\venv\\lib\\site-packages (from matplotlib) (0.12.1)\n",
      "Requirement already satisfied: fonttools>=4.22.0 in c:\\users\\ignac\\documents\\ignacio\\github\\sensor-anomalies\\venv\\lib\\site-packages (from matplotlib) (4.47.2)\n",
      "Requirement already satisfied: kiwisolver>=1.3.1 in c:\\users\\ignac\\documents\\ignacio\\github\\sensor-anomalies\\venv\\lib\\site-packages (from matplotlib) (1.4.5)\n",
      "Requirement already satisfied: numpy<2,>=1.21 in c:\\users\\ignac\\documents\\ignacio\\github\\sensor-anomalies\\venv\\lib\\site-packages (from matplotlib) (1.26.3)\n",
      "Requirement already satisfied: packaging>=20.0 in c:\\users\\ignac\\documents\\ignacio\\github\\sensor-anomalies\\venv\\lib\\site-packages (from matplotlib) (23.2)\n",
      "Requirement already satisfied: pillow>=8 in c:\\users\\ignac\\documents\\ignacio\\github\\sensor-anomalies\\venv\\lib\\site-packages (from matplotlib) (10.2.0)\n",
      "Requirement already satisfied: pyparsing>=2.3.1 in c:\\users\\ignac\\documents\\ignacio\\github\\sensor-anomalies\\venv\\lib\\site-packages (from matplotlib) (3.1.1)\n",
      "Requirement already satisfied: python-dateutil>=2.7 in c:\\users\\ignac\\documents\\ignacio\\github\\sensor-anomalies\\venv\\lib\\site-packages (from matplotlib) (2.8.2)\n",
      "Requirement already satisfied: six>=1.5 in c:\\users\\ignac\\documents\\ignacio\\github\\sensor-anomalies\\venv\\lib\\site-packages (from python-dateutil>=2.7->matplotlib) (1.16.0)\n",
      "Requirement already satisfied: numpy in c:\\users\\ignac\\documents\\ignacio\\github\\sensor-anomalies\\venv\\lib\\site-packages (1.26.3)\n"
     ]
    }
   ],
   "source": [
    "!pip install pandas\n",
    "!pip install matplotlib\n",
    "!pip install numpy"
   ]
  },
  {
   "cell_type": "code",
   "execution_count": 2,
   "outputs": [],
   "source": [
    "import numpy as np\n",
    "import matplotlib.pyplot as plt\n",
    "import pandas as pd"
   ],
   "metadata": {
    "collapsed": false
   }
  },
  {
   "cell_type": "markdown",
   "source": [
    "# Load Data"
   ],
   "metadata": {
    "collapsed": false
   }
  },
  {
   "cell_type": "markdown",
   "source": [
    "Data from 51 different sensors has been chosen, utilizing a train set consisting of 496800 samples and a test set with 449919 samples. Naturally, the train set can be expected to show normal behavior. This will be checked regardless."
   ],
   "metadata": {
    "collapsed": false
   }
  },
  {
   "cell_type": "code",
   "execution_count": 3,
   "outputs": [],
   "source": [
    "train = pd.read_csv('data-raw/train.csv', delimiter = ',', skipinitialspace = True)\n",
    "test = pd.read_csv('data-raw/test.csv', delimiter = ',', skipinitialspace = True)"
   ],
   "metadata": {
    "collapsed": false
   }
  },
  {
   "cell_type": "code",
   "execution_count": 4,
   "outputs": [
    {
     "data": {
      "text/plain": "               Timestamp    FIT101    LIT101  MV101  P101  P102    AIT201  \\\n0  22/12/2015 4:00:00 PM  2.470294  261.5804      2     2     1  244.3284   \n1  22/12/2015 4:00:01 PM  2.457163  261.1879      2     2     1  244.3284   \n2  22/12/2015 4:00:02 PM  2.439548  260.9131      2     2     1  244.3284   \n3  22/12/2015 4:00:03 PM  2.428338  260.2850      2     2     1  244.3284   \n4  22/12/2015 4:00:04 PM  2.424815  259.8925      2     2     1  244.4245   \n\n    AIT202   AIT203    FIT201  ...  P501  P502    PIT501  PIT502    PIT503  \\\n0  8.19008  306.101  2.471278  ...     1     1  10.02948     0.0  4.277749   \n1  8.19008  306.101  2.468587  ...     1     1  10.02948     0.0  4.277749   \n2  8.19008  306.101  2.467305  ...     1     1  10.02948     0.0  4.277749   \n3  8.19008  306.101  2.466536  ...     1     1  10.02948     0.0  4.277749   \n4  8.19008  306.101  2.466536  ...     1     1  10.02948     0.0  4.277749   \n\n     FIT601  P601  P602  P603  Normal/Attack  \n0  0.000256     1     1     1         Normal  \n1  0.000256     1     1     1         Normal  \n2  0.000256     1     1     1         Normal  \n3  0.000256     1     1     1         Normal  \n4  0.000256     1     1     1         Normal  \n\n[5 rows x 53 columns]",
      "text/html": "<div>\n<style scoped>\n    .dataframe tbody tr th:only-of-type {\n        vertical-align: middle;\n    }\n\n    .dataframe tbody tr th {\n        vertical-align: top;\n    }\n\n    .dataframe thead th {\n        text-align: right;\n    }\n</style>\n<table border=\"1\" class=\"dataframe\">\n  <thead>\n    <tr style=\"text-align: right;\">\n      <th></th>\n      <th>Timestamp</th>\n      <th>FIT101</th>\n      <th>LIT101</th>\n      <th>MV101</th>\n      <th>P101</th>\n      <th>P102</th>\n      <th>AIT201</th>\n      <th>AIT202</th>\n      <th>AIT203</th>\n      <th>FIT201</th>\n      <th>...</th>\n      <th>P501</th>\n      <th>P502</th>\n      <th>PIT501</th>\n      <th>PIT502</th>\n      <th>PIT503</th>\n      <th>FIT601</th>\n      <th>P601</th>\n      <th>P602</th>\n      <th>P603</th>\n      <th>Normal/Attack</th>\n    </tr>\n  </thead>\n  <tbody>\n    <tr>\n      <th>0</th>\n      <td>22/12/2015 4:00:00 PM</td>\n      <td>2.470294</td>\n      <td>261.5804</td>\n      <td>2</td>\n      <td>2</td>\n      <td>1</td>\n      <td>244.3284</td>\n      <td>8.19008</td>\n      <td>306.101</td>\n      <td>2.471278</td>\n      <td>...</td>\n      <td>1</td>\n      <td>1</td>\n      <td>10.02948</td>\n      <td>0.0</td>\n      <td>4.277749</td>\n      <td>0.000256</td>\n      <td>1</td>\n      <td>1</td>\n      <td>1</td>\n      <td>Normal</td>\n    </tr>\n    <tr>\n      <th>1</th>\n      <td>22/12/2015 4:00:01 PM</td>\n      <td>2.457163</td>\n      <td>261.1879</td>\n      <td>2</td>\n      <td>2</td>\n      <td>1</td>\n      <td>244.3284</td>\n      <td>8.19008</td>\n      <td>306.101</td>\n      <td>2.468587</td>\n      <td>...</td>\n      <td>1</td>\n      <td>1</td>\n      <td>10.02948</td>\n      <td>0.0</td>\n      <td>4.277749</td>\n      <td>0.000256</td>\n      <td>1</td>\n      <td>1</td>\n      <td>1</td>\n      <td>Normal</td>\n    </tr>\n    <tr>\n      <th>2</th>\n      <td>22/12/2015 4:00:02 PM</td>\n      <td>2.439548</td>\n      <td>260.9131</td>\n      <td>2</td>\n      <td>2</td>\n      <td>1</td>\n      <td>244.3284</td>\n      <td>8.19008</td>\n      <td>306.101</td>\n      <td>2.467305</td>\n      <td>...</td>\n      <td>1</td>\n      <td>1</td>\n      <td>10.02948</td>\n      <td>0.0</td>\n      <td>4.277749</td>\n      <td>0.000256</td>\n      <td>1</td>\n      <td>1</td>\n      <td>1</td>\n      <td>Normal</td>\n    </tr>\n    <tr>\n      <th>3</th>\n      <td>22/12/2015 4:00:03 PM</td>\n      <td>2.428338</td>\n      <td>260.2850</td>\n      <td>2</td>\n      <td>2</td>\n      <td>1</td>\n      <td>244.3284</td>\n      <td>8.19008</td>\n      <td>306.101</td>\n      <td>2.466536</td>\n      <td>...</td>\n      <td>1</td>\n      <td>1</td>\n      <td>10.02948</td>\n      <td>0.0</td>\n      <td>4.277749</td>\n      <td>0.000256</td>\n      <td>1</td>\n      <td>1</td>\n      <td>1</td>\n      <td>Normal</td>\n    </tr>\n    <tr>\n      <th>4</th>\n      <td>22/12/2015 4:00:04 PM</td>\n      <td>2.424815</td>\n      <td>259.8925</td>\n      <td>2</td>\n      <td>2</td>\n      <td>1</td>\n      <td>244.4245</td>\n      <td>8.19008</td>\n      <td>306.101</td>\n      <td>2.466536</td>\n      <td>...</td>\n      <td>1</td>\n      <td>1</td>\n      <td>10.02948</td>\n      <td>0.0</td>\n      <td>4.277749</td>\n      <td>0.000256</td>\n      <td>1</td>\n      <td>1</td>\n      <td>1</td>\n      <td>Normal</td>\n    </tr>\n  </tbody>\n</table>\n<p>5 rows × 53 columns</p>\n</div>"
     },
     "execution_count": 4,
     "metadata": {},
     "output_type": "execute_result"
    }
   ],
   "source": [
    "train.head()"
   ],
   "metadata": {
    "collapsed": false
   }
  },
  {
   "cell_type": "code",
   "execution_count": 5,
   "outputs": [
    {
     "data": {
      "text/plain": "                Timestamp    FIT101    LIT101  MV101  P101  P102    AIT201  \\\n0  28/12/2015 10:00:00 AM  2.427057  522.8467      2     2     1  262.0161   \n1  28/12/2015 10:00:01 AM  2.446274  522.8860      2     2     1  262.0161   \n2  28/12/2015 10:00:02 AM  2.489191  522.8467      2     2     1  262.0161   \n3  28/12/2015 10:00:03 AM  2.534350  522.9645      2     2     1  262.0161   \n4  28/12/2015 10:00:04 AM  2.569260  523.4748      2     2     1  262.0161   \n\n     AIT202    AIT203    FIT201  ...  P501  P502    PIT501    PIT502  \\\n0  8.396437  328.6337  2.445391  ...     2     1  250.8652  1.649953   \n1  8.396437  328.6337  2.445391  ...     2     1  250.8652  1.649953   \n2  8.394514  328.6337  2.442316  ...     2     1  250.8812  1.649953   \n3  8.394514  328.6337  2.442316  ...     2     1  250.8812  1.649953   \n4  8.394514  328.6337  2.443085  ...     2     1  250.8812  1.649953   \n\n     PIT503    FIT601  P601  P602  P603  Normal/Attack  \n0  189.5988  0.000128     1     1     1              ?  \n1  189.6789  0.000128     1     1     1              ?  \n2  189.6789  0.000128     1     1     1              ?  \n3  189.6148  0.000128     1     1     1              ?  \n4  189.5027  0.000128     1     1     1              ?  \n\n[5 rows x 53 columns]",
      "text/html": "<div>\n<style scoped>\n    .dataframe tbody tr th:only-of-type {\n        vertical-align: middle;\n    }\n\n    .dataframe tbody tr th {\n        vertical-align: top;\n    }\n\n    .dataframe thead th {\n        text-align: right;\n    }\n</style>\n<table border=\"1\" class=\"dataframe\">\n  <thead>\n    <tr style=\"text-align: right;\">\n      <th></th>\n      <th>Timestamp</th>\n      <th>FIT101</th>\n      <th>LIT101</th>\n      <th>MV101</th>\n      <th>P101</th>\n      <th>P102</th>\n      <th>AIT201</th>\n      <th>AIT202</th>\n      <th>AIT203</th>\n      <th>FIT201</th>\n      <th>...</th>\n      <th>P501</th>\n      <th>P502</th>\n      <th>PIT501</th>\n      <th>PIT502</th>\n      <th>PIT503</th>\n      <th>FIT601</th>\n      <th>P601</th>\n      <th>P602</th>\n      <th>P603</th>\n      <th>Normal/Attack</th>\n    </tr>\n  </thead>\n  <tbody>\n    <tr>\n      <th>0</th>\n      <td>28/12/2015 10:00:00 AM</td>\n      <td>2.427057</td>\n      <td>522.8467</td>\n      <td>2</td>\n      <td>2</td>\n      <td>1</td>\n      <td>262.0161</td>\n      <td>8.396437</td>\n      <td>328.6337</td>\n      <td>2.445391</td>\n      <td>...</td>\n      <td>2</td>\n      <td>1</td>\n      <td>250.8652</td>\n      <td>1.649953</td>\n      <td>189.5988</td>\n      <td>0.000128</td>\n      <td>1</td>\n      <td>1</td>\n      <td>1</td>\n      <td>?</td>\n    </tr>\n    <tr>\n      <th>1</th>\n      <td>28/12/2015 10:00:01 AM</td>\n      <td>2.446274</td>\n      <td>522.8860</td>\n      <td>2</td>\n      <td>2</td>\n      <td>1</td>\n      <td>262.0161</td>\n      <td>8.396437</td>\n      <td>328.6337</td>\n      <td>2.445391</td>\n      <td>...</td>\n      <td>2</td>\n      <td>1</td>\n      <td>250.8652</td>\n      <td>1.649953</td>\n      <td>189.6789</td>\n      <td>0.000128</td>\n      <td>1</td>\n      <td>1</td>\n      <td>1</td>\n      <td>?</td>\n    </tr>\n    <tr>\n      <th>2</th>\n      <td>28/12/2015 10:00:02 AM</td>\n      <td>2.489191</td>\n      <td>522.8467</td>\n      <td>2</td>\n      <td>2</td>\n      <td>1</td>\n      <td>262.0161</td>\n      <td>8.394514</td>\n      <td>328.6337</td>\n      <td>2.442316</td>\n      <td>...</td>\n      <td>2</td>\n      <td>1</td>\n      <td>250.8812</td>\n      <td>1.649953</td>\n      <td>189.6789</td>\n      <td>0.000128</td>\n      <td>1</td>\n      <td>1</td>\n      <td>1</td>\n      <td>?</td>\n    </tr>\n    <tr>\n      <th>3</th>\n      <td>28/12/2015 10:00:03 AM</td>\n      <td>2.534350</td>\n      <td>522.9645</td>\n      <td>2</td>\n      <td>2</td>\n      <td>1</td>\n      <td>262.0161</td>\n      <td>8.394514</td>\n      <td>328.6337</td>\n      <td>2.442316</td>\n      <td>...</td>\n      <td>2</td>\n      <td>1</td>\n      <td>250.8812</td>\n      <td>1.649953</td>\n      <td>189.6148</td>\n      <td>0.000128</td>\n      <td>1</td>\n      <td>1</td>\n      <td>1</td>\n      <td>?</td>\n    </tr>\n    <tr>\n      <th>4</th>\n      <td>28/12/2015 10:00:04 AM</td>\n      <td>2.569260</td>\n      <td>523.4748</td>\n      <td>2</td>\n      <td>2</td>\n      <td>1</td>\n      <td>262.0161</td>\n      <td>8.394514</td>\n      <td>328.6337</td>\n      <td>2.443085</td>\n      <td>...</td>\n      <td>2</td>\n      <td>1</td>\n      <td>250.8812</td>\n      <td>1.649953</td>\n      <td>189.5027</td>\n      <td>0.000128</td>\n      <td>1</td>\n      <td>1</td>\n      <td>1</td>\n      <td>?</td>\n    </tr>\n  </tbody>\n</table>\n<p>5 rows × 53 columns</p>\n</div>"
     },
     "execution_count": 5,
     "metadata": {},
     "output_type": "execute_result"
    }
   ],
   "source": [
    "test.head()"
   ],
   "metadata": {
    "collapsed": false
   }
  },
  {
   "cell_type": "markdown",
   "source": [
    "It can be seen the dataset contains multiple signals taken every second from various sensors. The test dataset contains no labels. The aim of the LSTM autoencoder will be to determine those and then compare them against the ground truth."
   ],
   "metadata": {
    "collapsed": false
   }
  },
  {
   "cell_type": "markdown",
   "source": [
    "Check whether all data in train is normal."
   ],
   "metadata": {
    "collapsed": false
   }
  },
  {
   "cell_type": "code",
   "execution_count": 6,
   "outputs": [
    {
     "name": "stdout",
     "output_type": "stream",
     "text": [
      "1.0\n"
     ]
    }
   ],
   "source": [
    "length = train.shape[0]\n",
    "filteredLength = train[train['Normal/Attack'] == 'Normal'].shape[0]\n",
    "print(filteredLength / length)"
   ],
   "metadata": {
    "collapsed": false
   }
  },
  {
   "cell_type": "markdown",
   "source": [
    "It can be seen that it is."
   ],
   "metadata": {
    "collapsed": false
   }
  },
  {
   "cell_type": "markdown",
   "source": [
    "# Visualization"
   ],
   "metadata": {
    "collapsed": false
   }
  },
  {
   "cell_type": "code",
   "execution_count": 7,
   "outputs": [],
   "source": [
    "def visualize_sensor_data(df, window=None, sensors=None):\n",
    "    # If window is None, visualize the entire dataset\n",
    "    if window is None:\n",
    "        start_index, end_index = 0, len(df)\n",
    "    else:\n",
    "        start_index, end_index = window\n",
    "\n",
    "    # If sensors is None, select all sensor columns\n",
    "    if sensors is None:\n",
    "        sensors = df.columns[1:-1]\n",
    "\n",
    "    # Plot each sensor in a different color\n",
    "    plt.figure(figsize=(15, 8))\n",
    "    for sensor in sensors:\n",
    "        plt.plot(df['Timestamp'][start_index:end_index], df[sensor][start_index:end_index], label=sensor)\n",
    "\n",
    "    plt.xlabel('Timestamp')\n",
    "    plt.ylabel('Sensor Values')\n",
    "    plt.title('Sensor Data Visualization')\n",
    "    plt.legend()\n",
    "\n",
    "    plt.show()"
   ],
   "metadata": {
    "collapsed": false
   }
  },
  {
   "cell_type": "code",
   "execution_count": 8,
   "outputs": [
    {
     "ename": "KeyboardInterrupt",
     "evalue": "",
     "output_type": "error",
     "traceback": [
      "\u001B[1;31m---------------------------------------------------------------------------\u001B[0m",
      "\u001B[1;31mKeyboardInterrupt\u001B[0m                         Traceback (most recent call last)",
      "Cell \u001B[1;32mIn[8], line 1\u001B[0m\n\u001B[1;32m----> 1\u001B[0m \u001B[43mvisualize_sensor_data\u001B[49m\u001B[43m(\u001B[49m\u001B[43mtrain\u001B[49m\u001B[43m)\u001B[49m\n",
      "Cell \u001B[1;32mIn[7], line 22\u001B[0m, in \u001B[0;36mvisualize_sensor_data\u001B[1;34m(df, window, sensors)\u001B[0m\n\u001B[0;32m     19\u001B[0m plt\u001B[38;5;241m.\u001B[39mtitle(\u001B[38;5;124m'\u001B[39m\u001B[38;5;124mSensor Data Visualization\u001B[39m\u001B[38;5;124m'\u001B[39m)\n\u001B[0;32m     20\u001B[0m plt\u001B[38;5;241m.\u001B[39mlegend()\n\u001B[1;32m---> 22\u001B[0m \u001B[43mplt\u001B[49m\u001B[38;5;241;43m.\u001B[39;49m\u001B[43mshow\u001B[49m\u001B[43m(\u001B[49m\u001B[43m)\u001B[49m\n",
      "File \u001B[1;32m~\\Documents\\Ignacio\\GitHub\\sensor-anomalies\\venv\\lib\\site-packages\\matplotlib\\pyplot.py:527\u001B[0m, in \u001B[0;36mshow\u001B[1;34m(*args, **kwargs)\u001B[0m\n\u001B[0;32m    483\u001B[0m \u001B[38;5;250m\u001B[39m\u001B[38;5;124;03m\"\"\"\u001B[39;00m\n\u001B[0;32m    484\u001B[0m \u001B[38;5;124;03mDisplay all open figures.\u001B[39;00m\n\u001B[0;32m    485\u001B[0m \n\u001B[1;32m   (...)\u001B[0m\n\u001B[0;32m    524\u001B[0m \u001B[38;5;124;03mexplicitly there.\u001B[39;00m\n\u001B[0;32m    525\u001B[0m \u001B[38;5;124;03m\"\"\"\u001B[39;00m\n\u001B[0;32m    526\u001B[0m _warn_if_gui_out_of_main_thread()\n\u001B[1;32m--> 527\u001B[0m \u001B[38;5;28;01mreturn\u001B[39;00m _get_backend_mod()\u001B[38;5;241m.\u001B[39mshow(\u001B[38;5;241m*\u001B[39margs, \u001B[38;5;241m*\u001B[39m\u001B[38;5;241m*\u001B[39mkwargs)\n",
      "File \u001B[1;32m~\\Documents\\Ignacio\\GitHub\\sensor-anomalies\\venv\\lib\\site-packages\\matplotlib_inline\\backend_inline.py:90\u001B[0m, in \u001B[0;36mshow\u001B[1;34m(close, block)\u001B[0m\n\u001B[0;32m     88\u001B[0m \u001B[38;5;28;01mtry\u001B[39;00m:\n\u001B[0;32m     89\u001B[0m     \u001B[38;5;28;01mfor\u001B[39;00m figure_manager \u001B[38;5;129;01min\u001B[39;00m Gcf\u001B[38;5;241m.\u001B[39mget_all_fig_managers():\n\u001B[1;32m---> 90\u001B[0m         \u001B[43mdisplay\u001B[49m\u001B[43m(\u001B[49m\n\u001B[0;32m     91\u001B[0m \u001B[43m            \u001B[49m\u001B[43mfigure_manager\u001B[49m\u001B[38;5;241;43m.\u001B[39;49m\u001B[43mcanvas\u001B[49m\u001B[38;5;241;43m.\u001B[39;49m\u001B[43mfigure\u001B[49m\u001B[43m,\u001B[49m\n\u001B[0;32m     92\u001B[0m \u001B[43m            \u001B[49m\u001B[43mmetadata\u001B[49m\u001B[38;5;241;43m=\u001B[39;49m\u001B[43m_fetch_figure_metadata\u001B[49m\u001B[43m(\u001B[49m\u001B[43mfigure_manager\u001B[49m\u001B[38;5;241;43m.\u001B[39;49m\u001B[43mcanvas\u001B[49m\u001B[38;5;241;43m.\u001B[39;49m\u001B[43mfigure\u001B[49m\u001B[43m)\u001B[49m\n\u001B[0;32m     93\u001B[0m \u001B[43m        \u001B[49m\u001B[43m)\u001B[49m\n\u001B[0;32m     94\u001B[0m \u001B[38;5;28;01mfinally\u001B[39;00m:\n\u001B[0;32m     95\u001B[0m     show\u001B[38;5;241m.\u001B[39m_to_draw \u001B[38;5;241m=\u001B[39m []\n",
      "File \u001B[1;32m~\\Documents\\Ignacio\\GitHub\\sensor-anomalies\\venv\\lib\\site-packages\\IPython\\core\\display_functions.py:298\u001B[0m, in \u001B[0;36mdisplay\u001B[1;34m(include, exclude, metadata, transient, display_id, raw, clear, *objs, **kwargs)\u001B[0m\n\u001B[0;32m    296\u001B[0m     publish_display_data(data\u001B[38;5;241m=\u001B[39mobj, metadata\u001B[38;5;241m=\u001B[39mmetadata, \u001B[38;5;241m*\u001B[39m\u001B[38;5;241m*\u001B[39mkwargs)\n\u001B[0;32m    297\u001B[0m \u001B[38;5;28;01melse\u001B[39;00m:\n\u001B[1;32m--> 298\u001B[0m     format_dict, md_dict \u001B[38;5;241m=\u001B[39m \u001B[38;5;28;43mformat\u001B[39;49m\u001B[43m(\u001B[49m\u001B[43mobj\u001B[49m\u001B[43m,\u001B[49m\u001B[43m \u001B[49m\u001B[43minclude\u001B[49m\u001B[38;5;241;43m=\u001B[39;49m\u001B[43minclude\u001B[49m\u001B[43m,\u001B[49m\u001B[43m \u001B[49m\u001B[43mexclude\u001B[49m\u001B[38;5;241;43m=\u001B[39;49m\u001B[43mexclude\u001B[49m\u001B[43m)\u001B[49m\n\u001B[0;32m    299\u001B[0m     \u001B[38;5;28;01mif\u001B[39;00m \u001B[38;5;129;01mnot\u001B[39;00m format_dict:\n\u001B[0;32m    300\u001B[0m         \u001B[38;5;66;03m# nothing to display (e.g. _ipython_display_ took over)\u001B[39;00m\n\u001B[0;32m    301\u001B[0m         \u001B[38;5;28;01mcontinue\u001B[39;00m\n",
      "File \u001B[1;32m~\\Documents\\Ignacio\\GitHub\\sensor-anomalies\\venv\\lib\\site-packages\\IPython\\core\\formatters.py:179\u001B[0m, in \u001B[0;36mDisplayFormatter.format\u001B[1;34m(self, obj, include, exclude)\u001B[0m\n\u001B[0;32m    177\u001B[0m md \u001B[38;5;241m=\u001B[39m \u001B[38;5;28;01mNone\u001B[39;00m\n\u001B[0;32m    178\u001B[0m \u001B[38;5;28;01mtry\u001B[39;00m:\n\u001B[1;32m--> 179\u001B[0m     data \u001B[38;5;241m=\u001B[39m \u001B[43mformatter\u001B[49m\u001B[43m(\u001B[49m\u001B[43mobj\u001B[49m\u001B[43m)\u001B[49m\n\u001B[0;32m    180\u001B[0m \u001B[38;5;28;01mexcept\u001B[39;00m:\n\u001B[0;32m    181\u001B[0m     \u001B[38;5;66;03m# FIXME: log the exception\u001B[39;00m\n\u001B[0;32m    182\u001B[0m     \u001B[38;5;28;01mraise\u001B[39;00m\n",
      "File \u001B[1;32m~\\Documents\\Ignacio\\GitHub\\sensor-anomalies\\venv\\lib\\site-packages\\decorator.py:232\u001B[0m, in \u001B[0;36mdecorate.<locals>.fun\u001B[1;34m(*args, **kw)\u001B[0m\n\u001B[0;32m    230\u001B[0m \u001B[38;5;28;01mif\u001B[39;00m \u001B[38;5;129;01mnot\u001B[39;00m kwsyntax:\n\u001B[0;32m    231\u001B[0m     args, kw \u001B[38;5;241m=\u001B[39m fix(args, kw, sig)\n\u001B[1;32m--> 232\u001B[0m \u001B[38;5;28;01mreturn\u001B[39;00m caller(func, \u001B[38;5;241m*\u001B[39m(extras \u001B[38;5;241m+\u001B[39m args), \u001B[38;5;241m*\u001B[39m\u001B[38;5;241m*\u001B[39mkw)\n",
      "File \u001B[1;32m~\\Documents\\Ignacio\\GitHub\\sensor-anomalies\\venv\\lib\\site-packages\\IPython\\core\\formatters.py:223\u001B[0m, in \u001B[0;36mcatch_format_error\u001B[1;34m(method, self, *args, **kwargs)\u001B[0m\n\u001B[0;32m    221\u001B[0m \u001B[38;5;250m\u001B[39m\u001B[38;5;124;03m\"\"\"show traceback on failed format call\"\"\"\u001B[39;00m\n\u001B[0;32m    222\u001B[0m \u001B[38;5;28;01mtry\u001B[39;00m:\n\u001B[1;32m--> 223\u001B[0m     r \u001B[38;5;241m=\u001B[39m method(\u001B[38;5;28mself\u001B[39m, \u001B[38;5;241m*\u001B[39margs, \u001B[38;5;241m*\u001B[39m\u001B[38;5;241m*\u001B[39mkwargs)\n\u001B[0;32m    224\u001B[0m \u001B[38;5;28;01mexcept\u001B[39;00m \u001B[38;5;167;01mNotImplementedError\u001B[39;00m:\n\u001B[0;32m    225\u001B[0m     \u001B[38;5;66;03m# don't warn on NotImplementedErrors\u001B[39;00m\n\u001B[0;32m    226\u001B[0m     \u001B[38;5;28;01mreturn\u001B[39;00m \u001B[38;5;28mself\u001B[39m\u001B[38;5;241m.\u001B[39m_check_return(\u001B[38;5;28;01mNone\u001B[39;00m, args[\u001B[38;5;241m0\u001B[39m])\n",
      "File \u001B[1;32m~\\Documents\\Ignacio\\GitHub\\sensor-anomalies\\venv\\lib\\site-packages\\IPython\\core\\formatters.py:340\u001B[0m, in \u001B[0;36mBaseFormatter.__call__\u001B[1;34m(self, obj)\u001B[0m\n\u001B[0;32m    338\u001B[0m     \u001B[38;5;28;01mpass\u001B[39;00m\n\u001B[0;32m    339\u001B[0m \u001B[38;5;28;01melse\u001B[39;00m:\n\u001B[1;32m--> 340\u001B[0m     \u001B[38;5;28;01mreturn\u001B[39;00m \u001B[43mprinter\u001B[49m\u001B[43m(\u001B[49m\u001B[43mobj\u001B[49m\u001B[43m)\u001B[49m\n\u001B[0;32m    341\u001B[0m \u001B[38;5;66;03m# Finally look for special method names\u001B[39;00m\n\u001B[0;32m    342\u001B[0m method \u001B[38;5;241m=\u001B[39m get_real_method(obj, \u001B[38;5;28mself\u001B[39m\u001B[38;5;241m.\u001B[39mprint_method)\n",
      "File \u001B[1;32m~\\Documents\\Ignacio\\GitHub\\sensor-anomalies\\venv\\lib\\site-packages\\IPython\\core\\pylabtools.py:152\u001B[0m, in \u001B[0;36mprint_figure\u001B[1;34m(fig, fmt, bbox_inches, base64, **kwargs)\u001B[0m\n\u001B[0;32m    149\u001B[0m     \u001B[38;5;28;01mfrom\u001B[39;00m \u001B[38;5;21;01mmatplotlib\u001B[39;00m\u001B[38;5;21;01m.\u001B[39;00m\u001B[38;5;21;01mbackend_bases\u001B[39;00m \u001B[38;5;28;01mimport\u001B[39;00m FigureCanvasBase\n\u001B[0;32m    150\u001B[0m     FigureCanvasBase(fig)\n\u001B[1;32m--> 152\u001B[0m fig\u001B[38;5;241m.\u001B[39mcanvas\u001B[38;5;241m.\u001B[39mprint_figure(bytes_io, \u001B[38;5;241m*\u001B[39m\u001B[38;5;241m*\u001B[39mkw)\n\u001B[0;32m    153\u001B[0m data \u001B[38;5;241m=\u001B[39m bytes_io\u001B[38;5;241m.\u001B[39mgetvalue()\n\u001B[0;32m    154\u001B[0m \u001B[38;5;28;01mif\u001B[39;00m fmt \u001B[38;5;241m==\u001B[39m \u001B[38;5;124m'\u001B[39m\u001B[38;5;124msvg\u001B[39m\u001B[38;5;124m'\u001B[39m:\n",
      "File \u001B[1;32m~\\Documents\\Ignacio\\GitHub\\sensor-anomalies\\venv\\lib\\site-packages\\matplotlib\\backend_bases.py:2164\u001B[0m, in \u001B[0;36mFigureCanvasBase.print_figure\u001B[1;34m(self, filename, dpi, facecolor, edgecolor, orientation, format, bbox_inches, pad_inches, bbox_extra_artists, backend, **kwargs)\u001B[0m\n\u001B[0;32m   2161\u001B[0m     \u001B[38;5;66;03m# we do this instead of `self.figure.draw_without_rendering`\u001B[39;00m\n\u001B[0;32m   2162\u001B[0m     \u001B[38;5;66;03m# so that we can inject the orientation\u001B[39;00m\n\u001B[0;32m   2163\u001B[0m     \u001B[38;5;28;01mwith\u001B[39;00m \u001B[38;5;28mgetattr\u001B[39m(renderer, \u001B[38;5;124m\"\u001B[39m\u001B[38;5;124m_draw_disabled\u001B[39m\u001B[38;5;124m\"\u001B[39m, nullcontext)():\n\u001B[1;32m-> 2164\u001B[0m         \u001B[38;5;28;43mself\u001B[39;49m\u001B[38;5;241;43m.\u001B[39;49m\u001B[43mfigure\u001B[49m\u001B[38;5;241;43m.\u001B[39;49m\u001B[43mdraw\u001B[49m\u001B[43m(\u001B[49m\u001B[43mrenderer\u001B[49m\u001B[43m)\u001B[49m\n\u001B[0;32m   2165\u001B[0m \u001B[38;5;28;01mif\u001B[39;00m bbox_inches:\n\u001B[0;32m   2166\u001B[0m     \u001B[38;5;28;01mif\u001B[39;00m bbox_inches \u001B[38;5;241m==\u001B[39m \u001B[38;5;124m\"\u001B[39m\u001B[38;5;124mtight\u001B[39m\u001B[38;5;124m\"\u001B[39m:\n",
      "File \u001B[1;32m~\\Documents\\Ignacio\\GitHub\\sensor-anomalies\\venv\\lib\\site-packages\\matplotlib\\artist.py:95\u001B[0m, in \u001B[0;36m_finalize_rasterization.<locals>.draw_wrapper\u001B[1;34m(artist, renderer, *args, **kwargs)\u001B[0m\n\u001B[0;32m     93\u001B[0m \u001B[38;5;129m@wraps\u001B[39m(draw)\n\u001B[0;32m     94\u001B[0m \u001B[38;5;28;01mdef\u001B[39;00m \u001B[38;5;21mdraw_wrapper\u001B[39m(artist, renderer, \u001B[38;5;241m*\u001B[39margs, \u001B[38;5;241m*\u001B[39m\u001B[38;5;241m*\u001B[39mkwargs):\n\u001B[1;32m---> 95\u001B[0m     result \u001B[38;5;241m=\u001B[39m draw(artist, renderer, \u001B[38;5;241m*\u001B[39margs, \u001B[38;5;241m*\u001B[39m\u001B[38;5;241m*\u001B[39mkwargs)\n\u001B[0;32m     96\u001B[0m     \u001B[38;5;28;01mif\u001B[39;00m renderer\u001B[38;5;241m.\u001B[39m_rasterizing:\n\u001B[0;32m     97\u001B[0m         renderer\u001B[38;5;241m.\u001B[39mstop_rasterizing()\n",
      "File \u001B[1;32m~\\Documents\\Ignacio\\GitHub\\sensor-anomalies\\venv\\lib\\site-packages\\matplotlib\\artist.py:72\u001B[0m, in \u001B[0;36mallow_rasterization.<locals>.draw_wrapper\u001B[1;34m(artist, renderer)\u001B[0m\n\u001B[0;32m     69\u001B[0m     \u001B[38;5;28;01mif\u001B[39;00m artist\u001B[38;5;241m.\u001B[39mget_agg_filter() \u001B[38;5;129;01mis\u001B[39;00m \u001B[38;5;129;01mnot\u001B[39;00m \u001B[38;5;28;01mNone\u001B[39;00m:\n\u001B[0;32m     70\u001B[0m         renderer\u001B[38;5;241m.\u001B[39mstart_filter()\n\u001B[1;32m---> 72\u001B[0m     \u001B[38;5;28;01mreturn\u001B[39;00m \u001B[43mdraw\u001B[49m\u001B[43m(\u001B[49m\u001B[43martist\u001B[49m\u001B[43m,\u001B[49m\u001B[43m \u001B[49m\u001B[43mrenderer\u001B[49m\u001B[43m)\u001B[49m\n\u001B[0;32m     73\u001B[0m \u001B[38;5;28;01mfinally\u001B[39;00m:\n\u001B[0;32m     74\u001B[0m     \u001B[38;5;28;01mif\u001B[39;00m artist\u001B[38;5;241m.\u001B[39mget_agg_filter() \u001B[38;5;129;01mis\u001B[39;00m \u001B[38;5;129;01mnot\u001B[39;00m \u001B[38;5;28;01mNone\u001B[39;00m:\n",
      "File \u001B[1;32m~\\Documents\\Ignacio\\GitHub\\sensor-anomalies\\venv\\lib\\site-packages\\matplotlib\\figure.py:3154\u001B[0m, in \u001B[0;36mFigure.draw\u001B[1;34m(self, renderer)\u001B[0m\n\u001B[0;32m   3151\u001B[0m         \u001B[38;5;66;03m# ValueError can occur when resizing a window.\u001B[39;00m\n\u001B[0;32m   3153\u001B[0m \u001B[38;5;28mself\u001B[39m\u001B[38;5;241m.\u001B[39mpatch\u001B[38;5;241m.\u001B[39mdraw(renderer)\n\u001B[1;32m-> 3154\u001B[0m \u001B[43mmimage\u001B[49m\u001B[38;5;241;43m.\u001B[39;49m\u001B[43m_draw_list_compositing_images\u001B[49m\u001B[43m(\u001B[49m\n\u001B[0;32m   3155\u001B[0m \u001B[43m    \u001B[49m\u001B[43mrenderer\u001B[49m\u001B[43m,\u001B[49m\u001B[43m \u001B[49m\u001B[38;5;28;43mself\u001B[39;49m\u001B[43m,\u001B[49m\u001B[43m \u001B[49m\u001B[43martists\u001B[49m\u001B[43m,\u001B[49m\u001B[43m \u001B[49m\u001B[38;5;28;43mself\u001B[39;49m\u001B[38;5;241;43m.\u001B[39;49m\u001B[43msuppressComposite\u001B[49m\u001B[43m)\u001B[49m\n\u001B[0;32m   3157\u001B[0m \u001B[38;5;28;01mfor\u001B[39;00m sfig \u001B[38;5;129;01min\u001B[39;00m \u001B[38;5;28mself\u001B[39m\u001B[38;5;241m.\u001B[39msubfigs:\n\u001B[0;32m   3158\u001B[0m     sfig\u001B[38;5;241m.\u001B[39mdraw(renderer)\n",
      "File \u001B[1;32m~\\Documents\\Ignacio\\GitHub\\sensor-anomalies\\venv\\lib\\site-packages\\matplotlib\\image.py:132\u001B[0m, in \u001B[0;36m_draw_list_compositing_images\u001B[1;34m(renderer, parent, artists, suppress_composite)\u001B[0m\n\u001B[0;32m    130\u001B[0m \u001B[38;5;28;01mif\u001B[39;00m not_composite \u001B[38;5;129;01mor\u001B[39;00m \u001B[38;5;129;01mnot\u001B[39;00m has_images:\n\u001B[0;32m    131\u001B[0m     \u001B[38;5;28;01mfor\u001B[39;00m a \u001B[38;5;129;01min\u001B[39;00m artists:\n\u001B[1;32m--> 132\u001B[0m         \u001B[43ma\u001B[49m\u001B[38;5;241;43m.\u001B[39;49m\u001B[43mdraw\u001B[49m\u001B[43m(\u001B[49m\u001B[43mrenderer\u001B[49m\u001B[43m)\u001B[49m\n\u001B[0;32m    133\u001B[0m \u001B[38;5;28;01melse\u001B[39;00m:\n\u001B[0;32m    134\u001B[0m     \u001B[38;5;66;03m# Composite any adjacent images together\u001B[39;00m\n\u001B[0;32m    135\u001B[0m     image_group \u001B[38;5;241m=\u001B[39m []\n",
      "File \u001B[1;32m~\\Documents\\Ignacio\\GitHub\\sensor-anomalies\\venv\\lib\\site-packages\\matplotlib\\artist.py:72\u001B[0m, in \u001B[0;36mallow_rasterization.<locals>.draw_wrapper\u001B[1;34m(artist, renderer)\u001B[0m\n\u001B[0;32m     69\u001B[0m     \u001B[38;5;28;01mif\u001B[39;00m artist\u001B[38;5;241m.\u001B[39mget_agg_filter() \u001B[38;5;129;01mis\u001B[39;00m \u001B[38;5;129;01mnot\u001B[39;00m \u001B[38;5;28;01mNone\u001B[39;00m:\n\u001B[0;32m     70\u001B[0m         renderer\u001B[38;5;241m.\u001B[39mstart_filter()\n\u001B[1;32m---> 72\u001B[0m     \u001B[38;5;28;01mreturn\u001B[39;00m \u001B[43mdraw\u001B[49m\u001B[43m(\u001B[49m\u001B[43martist\u001B[49m\u001B[43m,\u001B[49m\u001B[43m \u001B[49m\u001B[43mrenderer\u001B[49m\u001B[43m)\u001B[49m\n\u001B[0;32m     73\u001B[0m \u001B[38;5;28;01mfinally\u001B[39;00m:\n\u001B[0;32m     74\u001B[0m     \u001B[38;5;28;01mif\u001B[39;00m artist\u001B[38;5;241m.\u001B[39mget_agg_filter() \u001B[38;5;129;01mis\u001B[39;00m \u001B[38;5;129;01mnot\u001B[39;00m \u001B[38;5;28;01mNone\u001B[39;00m:\n",
      "File \u001B[1;32m~\\Documents\\Ignacio\\GitHub\\sensor-anomalies\\venv\\lib\\site-packages\\matplotlib\\axes\\_base.py:3070\u001B[0m, in \u001B[0;36m_AxesBase.draw\u001B[1;34m(self, renderer)\u001B[0m\n\u001B[0;32m   3067\u001B[0m \u001B[38;5;28;01mif\u001B[39;00m artists_rasterized:\n\u001B[0;32m   3068\u001B[0m     _draw_rasterized(\u001B[38;5;28mself\u001B[39m\u001B[38;5;241m.\u001B[39mfigure, artists_rasterized, renderer)\n\u001B[1;32m-> 3070\u001B[0m \u001B[43mmimage\u001B[49m\u001B[38;5;241;43m.\u001B[39;49m\u001B[43m_draw_list_compositing_images\u001B[49m\u001B[43m(\u001B[49m\n\u001B[0;32m   3071\u001B[0m \u001B[43m    \u001B[49m\u001B[43mrenderer\u001B[49m\u001B[43m,\u001B[49m\u001B[43m \u001B[49m\u001B[38;5;28;43mself\u001B[39;49m\u001B[43m,\u001B[49m\u001B[43m \u001B[49m\u001B[43martists\u001B[49m\u001B[43m,\u001B[49m\u001B[43m \u001B[49m\u001B[38;5;28;43mself\u001B[39;49m\u001B[38;5;241;43m.\u001B[39;49m\u001B[43mfigure\u001B[49m\u001B[38;5;241;43m.\u001B[39;49m\u001B[43msuppressComposite\u001B[49m\u001B[43m)\u001B[49m\n\u001B[0;32m   3073\u001B[0m renderer\u001B[38;5;241m.\u001B[39mclose_group(\u001B[38;5;124m'\u001B[39m\u001B[38;5;124maxes\u001B[39m\u001B[38;5;124m'\u001B[39m)\n\u001B[0;32m   3074\u001B[0m \u001B[38;5;28mself\u001B[39m\u001B[38;5;241m.\u001B[39mstale \u001B[38;5;241m=\u001B[39m \u001B[38;5;28;01mFalse\u001B[39;00m\n",
      "File \u001B[1;32m~\\Documents\\Ignacio\\GitHub\\sensor-anomalies\\venv\\lib\\site-packages\\matplotlib\\image.py:132\u001B[0m, in \u001B[0;36m_draw_list_compositing_images\u001B[1;34m(renderer, parent, artists, suppress_composite)\u001B[0m\n\u001B[0;32m    130\u001B[0m \u001B[38;5;28;01mif\u001B[39;00m not_composite \u001B[38;5;129;01mor\u001B[39;00m \u001B[38;5;129;01mnot\u001B[39;00m has_images:\n\u001B[0;32m    131\u001B[0m     \u001B[38;5;28;01mfor\u001B[39;00m a \u001B[38;5;129;01min\u001B[39;00m artists:\n\u001B[1;32m--> 132\u001B[0m         \u001B[43ma\u001B[49m\u001B[38;5;241;43m.\u001B[39;49m\u001B[43mdraw\u001B[49m\u001B[43m(\u001B[49m\u001B[43mrenderer\u001B[49m\u001B[43m)\u001B[49m\n\u001B[0;32m    133\u001B[0m \u001B[38;5;28;01melse\u001B[39;00m:\n\u001B[0;32m    134\u001B[0m     \u001B[38;5;66;03m# Composite any adjacent images together\u001B[39;00m\n\u001B[0;32m    135\u001B[0m     image_group \u001B[38;5;241m=\u001B[39m []\n",
      "File \u001B[1;32m~\\Documents\\Ignacio\\GitHub\\sensor-anomalies\\venv\\lib\\site-packages\\matplotlib\\artist.py:72\u001B[0m, in \u001B[0;36mallow_rasterization.<locals>.draw_wrapper\u001B[1;34m(artist, renderer)\u001B[0m\n\u001B[0;32m     69\u001B[0m     \u001B[38;5;28;01mif\u001B[39;00m artist\u001B[38;5;241m.\u001B[39mget_agg_filter() \u001B[38;5;129;01mis\u001B[39;00m \u001B[38;5;129;01mnot\u001B[39;00m \u001B[38;5;28;01mNone\u001B[39;00m:\n\u001B[0;32m     70\u001B[0m         renderer\u001B[38;5;241m.\u001B[39mstart_filter()\n\u001B[1;32m---> 72\u001B[0m     \u001B[38;5;28;01mreturn\u001B[39;00m \u001B[43mdraw\u001B[49m\u001B[43m(\u001B[49m\u001B[43martist\u001B[49m\u001B[43m,\u001B[49m\u001B[43m \u001B[49m\u001B[43mrenderer\u001B[49m\u001B[43m)\u001B[49m\n\u001B[0;32m     73\u001B[0m \u001B[38;5;28;01mfinally\u001B[39;00m:\n\u001B[0;32m     74\u001B[0m     \u001B[38;5;28;01mif\u001B[39;00m artist\u001B[38;5;241m.\u001B[39mget_agg_filter() \u001B[38;5;129;01mis\u001B[39;00m \u001B[38;5;129;01mnot\u001B[39;00m \u001B[38;5;28;01mNone\u001B[39;00m:\n",
      "File \u001B[1;32m~\\Documents\\Ignacio\\GitHub\\sensor-anomalies\\venv\\lib\\site-packages\\matplotlib\\axis.py:1387\u001B[0m, in \u001B[0;36mAxis.draw\u001B[1;34m(self, renderer, *args, **kwargs)\u001B[0m\n\u001B[0;32m   1384\u001B[0m     \u001B[38;5;28;01mreturn\u001B[39;00m\n\u001B[0;32m   1385\u001B[0m renderer\u001B[38;5;241m.\u001B[39mopen_group(\u001B[38;5;18m__name__\u001B[39m, gid\u001B[38;5;241m=\u001B[39m\u001B[38;5;28mself\u001B[39m\u001B[38;5;241m.\u001B[39mget_gid())\n\u001B[1;32m-> 1387\u001B[0m ticks_to_draw \u001B[38;5;241m=\u001B[39m \u001B[38;5;28;43mself\u001B[39;49m\u001B[38;5;241;43m.\u001B[39;49m\u001B[43m_update_ticks\u001B[49m\u001B[43m(\u001B[49m\u001B[43m)\u001B[49m\n\u001B[0;32m   1388\u001B[0m tlb1, tlb2 \u001B[38;5;241m=\u001B[39m \u001B[38;5;28mself\u001B[39m\u001B[38;5;241m.\u001B[39m_get_ticklabel_bboxes(ticks_to_draw, renderer)\n\u001B[0;32m   1390\u001B[0m \u001B[38;5;28;01mfor\u001B[39;00m tick \u001B[38;5;129;01min\u001B[39;00m ticks_to_draw:\n",
      "File \u001B[1;32m~\\Documents\\Ignacio\\GitHub\\sensor-anomalies\\venv\\lib\\site-packages\\matplotlib\\axis.py:1277\u001B[0m, in \u001B[0;36mAxis._update_ticks\u001B[1;34m(self)\u001B[0m\n\u001B[0;32m   1275\u001B[0m major_locs \u001B[38;5;241m=\u001B[39m \u001B[38;5;28mself\u001B[39m\u001B[38;5;241m.\u001B[39mget_majorticklocs()\n\u001B[0;32m   1276\u001B[0m major_labels \u001B[38;5;241m=\u001B[39m \u001B[38;5;28mself\u001B[39m\u001B[38;5;241m.\u001B[39mmajor\u001B[38;5;241m.\u001B[39mformatter\u001B[38;5;241m.\u001B[39mformat_ticks(major_locs)\n\u001B[1;32m-> 1277\u001B[0m major_ticks \u001B[38;5;241m=\u001B[39m \u001B[38;5;28;43mself\u001B[39;49m\u001B[38;5;241;43m.\u001B[39;49m\u001B[43mget_major_ticks\u001B[49m\u001B[43m(\u001B[49m\u001B[38;5;28;43mlen\u001B[39;49m\u001B[43m(\u001B[49m\u001B[43mmajor_locs\u001B[49m\u001B[43m)\u001B[49m\u001B[43m)\u001B[49m\n\u001B[0;32m   1278\u001B[0m \u001B[38;5;28;01mfor\u001B[39;00m tick, loc, label \u001B[38;5;129;01min\u001B[39;00m \u001B[38;5;28mzip\u001B[39m(major_ticks, major_locs, major_labels):\n\u001B[0;32m   1279\u001B[0m     tick\u001B[38;5;241m.\u001B[39mupdate_position(loc)\n",
      "File \u001B[1;32m~\\Documents\\Ignacio\\GitHub\\sensor-anomalies\\venv\\lib\\site-packages\\matplotlib\\axis.py:1626\u001B[0m, in \u001B[0;36mAxis.get_major_ticks\u001B[1;34m(self, numticks)\u001B[0m\n\u001B[0;32m   1622\u001B[0m     numticks \u001B[38;5;241m=\u001B[39m \u001B[38;5;28mlen\u001B[39m(\u001B[38;5;28mself\u001B[39m\u001B[38;5;241m.\u001B[39mget_majorticklocs())\n\u001B[0;32m   1624\u001B[0m \u001B[38;5;28;01mwhile\u001B[39;00m \u001B[38;5;28mlen\u001B[39m(\u001B[38;5;28mself\u001B[39m\u001B[38;5;241m.\u001B[39mmajorTicks) \u001B[38;5;241m<\u001B[39m numticks:\n\u001B[0;32m   1625\u001B[0m     \u001B[38;5;66;03m# Update the new tick label properties from the old.\u001B[39;00m\n\u001B[1;32m-> 1626\u001B[0m     tick \u001B[38;5;241m=\u001B[39m \u001B[38;5;28;43mself\u001B[39;49m\u001B[38;5;241;43m.\u001B[39;49m\u001B[43m_get_tick\u001B[49m\u001B[43m(\u001B[49m\u001B[43mmajor\u001B[49m\u001B[38;5;241;43m=\u001B[39;49m\u001B[38;5;28;43;01mTrue\u001B[39;49;00m\u001B[43m)\u001B[49m\n\u001B[0;32m   1627\u001B[0m     \u001B[38;5;28mself\u001B[39m\u001B[38;5;241m.\u001B[39mmajorTicks\u001B[38;5;241m.\u001B[39mappend(tick)\n\u001B[0;32m   1628\u001B[0m     \u001B[38;5;28mself\u001B[39m\u001B[38;5;241m.\u001B[39m_copy_tick_props(\u001B[38;5;28mself\u001B[39m\u001B[38;5;241m.\u001B[39mmajorTicks[\u001B[38;5;241m0\u001B[39m], tick)\n",
      "File \u001B[1;32m~\\Documents\\Ignacio\\GitHub\\sensor-anomalies\\venv\\lib\\site-packages\\matplotlib\\axis.py:1562\u001B[0m, in \u001B[0;36mAxis._get_tick\u001B[1;34m(self, major)\u001B[0m\n\u001B[0;32m   1558\u001B[0m     \u001B[38;5;28;01mraise\u001B[39;00m \u001B[38;5;167;01mNotImplementedError\u001B[39;00m(\n\u001B[0;32m   1559\u001B[0m         \u001B[38;5;124mf\u001B[39m\u001B[38;5;124m\"\u001B[39m\u001B[38;5;124mThe Axis subclass \u001B[39m\u001B[38;5;132;01m{\u001B[39;00m\u001B[38;5;28mself\u001B[39m\u001B[38;5;241m.\u001B[39m\u001B[38;5;18m__class__\u001B[39m\u001B[38;5;241m.\u001B[39m\u001B[38;5;18m__name__\u001B[39m\u001B[38;5;132;01m}\u001B[39;00m\u001B[38;5;124m must define \u001B[39m\u001B[38;5;124m\"\u001B[39m\n\u001B[0;32m   1560\u001B[0m         \u001B[38;5;124m\"\u001B[39m\u001B[38;5;124m_tick_class or reimplement _get_tick()\u001B[39m\u001B[38;5;124m\"\u001B[39m)\n\u001B[0;32m   1561\u001B[0m tick_kw \u001B[38;5;241m=\u001B[39m \u001B[38;5;28mself\u001B[39m\u001B[38;5;241m.\u001B[39m_major_tick_kw \u001B[38;5;28;01mif\u001B[39;00m major \u001B[38;5;28;01melse\u001B[39;00m \u001B[38;5;28mself\u001B[39m\u001B[38;5;241m.\u001B[39m_minor_tick_kw\n\u001B[1;32m-> 1562\u001B[0m \u001B[38;5;28;01mreturn\u001B[39;00m \u001B[38;5;28mself\u001B[39m\u001B[38;5;241m.\u001B[39m_tick_class(\u001B[38;5;28mself\u001B[39m\u001B[38;5;241m.\u001B[39maxes, \u001B[38;5;241m0\u001B[39m, major\u001B[38;5;241m=\u001B[39mmajor, \u001B[38;5;241m*\u001B[39m\u001B[38;5;241m*\u001B[39mtick_kw)\n",
      "File \u001B[1;32m~\\Documents\\Ignacio\\GitHub\\sensor-anomalies\\venv\\lib\\site-packages\\matplotlib\\axis.py:413\u001B[0m, in \u001B[0;36mXTick.__init__\u001B[1;34m(self, *args, **kwargs)\u001B[0m\n\u001B[0;32m    412\u001B[0m \u001B[38;5;28;01mdef\u001B[39;00m \u001B[38;5;21m__init__\u001B[39m(\u001B[38;5;28mself\u001B[39m, \u001B[38;5;241m*\u001B[39margs, \u001B[38;5;241m*\u001B[39m\u001B[38;5;241m*\u001B[39mkwargs):\n\u001B[1;32m--> 413\u001B[0m     \u001B[38;5;28msuper\u001B[39m()\u001B[38;5;241m.\u001B[39m\u001B[38;5;21m__init__\u001B[39m(\u001B[38;5;241m*\u001B[39margs, \u001B[38;5;241m*\u001B[39m\u001B[38;5;241m*\u001B[39mkwargs)\n\u001B[0;32m    414\u001B[0m     \u001B[38;5;66;03m# x in data coords, y in axes coords\u001B[39;00m\n\u001B[0;32m    415\u001B[0m     ax \u001B[38;5;241m=\u001B[39m \u001B[38;5;28mself\u001B[39m\u001B[38;5;241m.\u001B[39maxes\n",
      "File \u001B[1;32m~\\Documents\\Ignacio\\GitHub\\sensor-anomalies\\venv\\lib\\site-packages\\matplotlib\\axis.py:187\u001B[0m, in \u001B[0;36mTick.__init__\u001B[1;34m(self, axes, loc, size, width, color, tickdir, pad, labelsize, labelcolor, labelfontfamily, zorder, gridOn, tick1On, tick2On, label1On, label2On, major, labelrotation, grid_color, grid_linestyle, grid_linewidth, grid_alpha, **kwargs)\u001B[0m\n\u001B[0;32m    178\u001B[0m \u001B[38;5;28mself\u001B[39m\u001B[38;5;241m.\u001B[39mlabel1 \u001B[38;5;241m=\u001B[39m mtext\u001B[38;5;241m.\u001B[39mText(\n\u001B[0;32m    179\u001B[0m     np\u001B[38;5;241m.\u001B[39mnan, np\u001B[38;5;241m.\u001B[39mnan,\n\u001B[0;32m    180\u001B[0m     fontsize\u001B[38;5;241m=\u001B[39mlabelsize, color\u001B[38;5;241m=\u001B[39mlabelcolor, visible\u001B[38;5;241m=\u001B[39mlabel1On,\n\u001B[0;32m    181\u001B[0m     fontfamily\u001B[38;5;241m=\u001B[39mlabelfontfamily, rotation\u001B[38;5;241m=\u001B[39m\u001B[38;5;28mself\u001B[39m\u001B[38;5;241m.\u001B[39m_labelrotation[\u001B[38;5;241m1\u001B[39m])\n\u001B[0;32m    182\u001B[0m \u001B[38;5;28mself\u001B[39m\u001B[38;5;241m.\u001B[39mlabel2 \u001B[38;5;241m=\u001B[39m mtext\u001B[38;5;241m.\u001B[39mText(\n\u001B[0;32m    183\u001B[0m     np\u001B[38;5;241m.\u001B[39mnan, np\u001B[38;5;241m.\u001B[39mnan,\n\u001B[0;32m    184\u001B[0m     fontsize\u001B[38;5;241m=\u001B[39mlabelsize, color\u001B[38;5;241m=\u001B[39mlabelcolor, visible\u001B[38;5;241m=\u001B[39mlabel2On,\n\u001B[0;32m    185\u001B[0m     fontfamily\u001B[38;5;241m=\u001B[39mlabelfontfamily, rotation\u001B[38;5;241m=\u001B[39m\u001B[38;5;28mself\u001B[39m\u001B[38;5;241m.\u001B[39m_labelrotation[\u001B[38;5;241m1\u001B[39m])\n\u001B[1;32m--> 187\u001B[0m \u001B[38;5;28;43mself\u001B[39;49m\u001B[38;5;241;43m.\u001B[39;49m\u001B[43m_apply_tickdir\u001B[49m\u001B[43m(\u001B[49m\u001B[43mtickdir\u001B[49m\u001B[43m)\u001B[49m\n\u001B[0;32m    189\u001B[0m \u001B[38;5;28;01mfor\u001B[39;00m artist \u001B[38;5;129;01min\u001B[39;00m [\u001B[38;5;28mself\u001B[39m\u001B[38;5;241m.\u001B[39mtick1line, \u001B[38;5;28mself\u001B[39m\u001B[38;5;241m.\u001B[39mtick2line, \u001B[38;5;28mself\u001B[39m\u001B[38;5;241m.\u001B[39mgridline,\n\u001B[0;32m    190\u001B[0m                \u001B[38;5;28mself\u001B[39m\u001B[38;5;241m.\u001B[39mlabel1, \u001B[38;5;28mself\u001B[39m\u001B[38;5;241m.\u001B[39mlabel2]:\n\u001B[0;32m    191\u001B[0m     \u001B[38;5;28mself\u001B[39m\u001B[38;5;241m.\u001B[39m_set_artist_props(artist)\n",
      "File \u001B[1;32m~\\Documents\\Ignacio\\GitHub\\sensor-anomalies\\venv\\lib\\site-packages\\matplotlib\\axis.py:445\u001B[0m, in \u001B[0;36mXTick._apply_tickdir\u001B[1;34m(self, tickdir)\u001B[0m\n\u001B[0;32m    443\u001B[0m mark1, mark2 \u001B[38;5;241m=\u001B[39m _MARKER_DICT[\u001B[38;5;28mself\u001B[39m\u001B[38;5;241m.\u001B[39m_tickdir]\n\u001B[0;32m    444\u001B[0m \u001B[38;5;28mself\u001B[39m\u001B[38;5;241m.\u001B[39mtick1line\u001B[38;5;241m.\u001B[39mset_marker(mark1)\n\u001B[1;32m--> 445\u001B[0m \u001B[38;5;28;43mself\u001B[39;49m\u001B[38;5;241;43m.\u001B[39;49m\u001B[43mtick2line\u001B[49m\u001B[38;5;241;43m.\u001B[39;49m\u001B[43mset_marker\u001B[49m\u001B[43m(\u001B[49m\u001B[43mmark2\u001B[49m\u001B[43m)\u001B[49m\n",
      "File \u001B[1;32m~\\Documents\\Ignacio\\GitHub\\sensor-anomalies\\venv\\lib\\site-packages\\matplotlib\\lines.py:1194\u001B[0m, in \u001B[0;36mLine2D.set_marker\u001B[1;34m(self, marker)\u001B[0m\n\u001B[0;32m   1183\u001B[0m \u001B[38;5;129m@_docstring\u001B[39m\u001B[38;5;241m.\u001B[39minterpd\n\u001B[0;32m   1184\u001B[0m \u001B[38;5;28;01mdef\u001B[39;00m \u001B[38;5;21mset_marker\u001B[39m(\u001B[38;5;28mself\u001B[39m, marker):\n\u001B[0;32m   1185\u001B[0m \u001B[38;5;250m    \u001B[39m\u001B[38;5;124;03m\"\"\"\u001B[39;00m\n\u001B[0;32m   1186\u001B[0m \u001B[38;5;124;03m    Set the line marker.\u001B[39;00m\n\u001B[0;32m   1187\u001B[0m \n\u001B[1;32m   (...)\u001B[0m\n\u001B[0;32m   1192\u001B[0m \u001B[38;5;124;03m        arguments.\u001B[39;00m\n\u001B[0;32m   1193\u001B[0m \u001B[38;5;124;03m    \"\"\"\u001B[39;00m\n\u001B[1;32m-> 1194\u001B[0m     \u001B[38;5;28mself\u001B[39m\u001B[38;5;241m.\u001B[39m_marker \u001B[38;5;241m=\u001B[39m \u001B[43mMarkerStyle\u001B[49m\u001B[43m(\u001B[49m\u001B[43mmarker\u001B[49m\u001B[43m,\u001B[49m\u001B[43m \u001B[49m\u001B[38;5;28;43mself\u001B[39;49m\u001B[38;5;241;43m.\u001B[39;49m\u001B[43m_marker\u001B[49m\u001B[38;5;241;43m.\u001B[39;49m\u001B[43mget_fillstyle\u001B[49m\u001B[43m(\u001B[49m\u001B[43m)\u001B[49m\u001B[43m)\u001B[49m\n\u001B[0;32m   1195\u001B[0m     \u001B[38;5;28mself\u001B[39m\u001B[38;5;241m.\u001B[39mstale \u001B[38;5;241m=\u001B[39m \u001B[38;5;28;01mTrue\u001B[39;00m\n",
      "File \u001B[1;32m~\\Documents\\Ignacio\\GitHub\\sensor-anomalies\\venv\\lib\\site-packages\\matplotlib\\markers.py:255\u001B[0m, in \u001B[0;36mMarkerStyle.__init__\u001B[1;34m(self, marker, fillstyle, transform, capstyle, joinstyle)\u001B[0m\n\u001B[0;32m    253\u001B[0m \u001B[38;5;28mself\u001B[39m\u001B[38;5;241m.\u001B[39m_user_joinstyle \u001B[38;5;241m=\u001B[39m JoinStyle(joinstyle) \u001B[38;5;28;01mif\u001B[39;00m joinstyle \u001B[38;5;129;01mis\u001B[39;00m \u001B[38;5;129;01mnot\u001B[39;00m \u001B[38;5;28;01mNone\u001B[39;00m \u001B[38;5;28;01melse\u001B[39;00m \u001B[38;5;28;01mNone\u001B[39;00m\n\u001B[0;32m    254\u001B[0m \u001B[38;5;28mself\u001B[39m\u001B[38;5;241m.\u001B[39m_set_fillstyle(fillstyle)\n\u001B[1;32m--> 255\u001B[0m \u001B[38;5;28;43mself\u001B[39;49m\u001B[38;5;241;43m.\u001B[39;49m\u001B[43m_set_marker\u001B[49m\u001B[43m(\u001B[49m\u001B[43mmarker\u001B[49m\u001B[43m)\u001B[49m\n",
      "File \u001B[1;32m~\\Documents\\Ignacio\\GitHub\\sensor-anomalies\\venv\\lib\\site-packages\\matplotlib\\markers.py:343\u001B[0m, in \u001B[0;36mMarkerStyle._set_marker\u001B[1;34m(self, marker)\u001B[0m\n\u001B[0;32m    341\u001B[0m \u001B[38;5;28;01mif\u001B[39;00m \u001B[38;5;129;01mnot\u001B[39;00m \u001B[38;5;28misinstance\u001B[39m(marker, MarkerStyle):\n\u001B[0;32m    342\u001B[0m     \u001B[38;5;28mself\u001B[39m\u001B[38;5;241m.\u001B[39m_marker \u001B[38;5;241m=\u001B[39m marker\n\u001B[1;32m--> 343\u001B[0m     \u001B[38;5;28;43mself\u001B[39;49m\u001B[38;5;241;43m.\u001B[39;49m\u001B[43m_recache\u001B[49m\u001B[43m(\u001B[49m\u001B[43m)\u001B[49m\n",
      "File \u001B[1;32m~\\Documents\\Ignacio\\GitHub\\sensor-anomalies\\venv\\lib\\site-packages\\matplotlib\\markers.py:271\u001B[0m, in \u001B[0;36mMarkerStyle._recache\u001B[1;34m(self)\u001B[0m\n\u001B[0;32m    267\u001B[0m \u001B[38;5;66;03m# Initial guess: Assume the marker is filled unless the fillstyle is\u001B[39;00m\n\u001B[0;32m    268\u001B[0m \u001B[38;5;66;03m# set to 'none'. The marker function will override this for unfilled\u001B[39;00m\n\u001B[0;32m    269\u001B[0m \u001B[38;5;66;03m# markers.\u001B[39;00m\n\u001B[0;32m    270\u001B[0m \u001B[38;5;28mself\u001B[39m\u001B[38;5;241m.\u001B[39m_filled \u001B[38;5;241m=\u001B[39m \u001B[38;5;28mself\u001B[39m\u001B[38;5;241m.\u001B[39m_fillstyle \u001B[38;5;241m!=\u001B[39m \u001B[38;5;124m'\u001B[39m\u001B[38;5;124mnone\u001B[39m\u001B[38;5;124m'\u001B[39m\n\u001B[1;32m--> 271\u001B[0m \u001B[38;5;28;43mself\u001B[39;49m\u001B[38;5;241;43m.\u001B[39;49m\u001B[43m_marker_function\u001B[49m\u001B[43m(\u001B[49m\u001B[43m)\u001B[49m\n",
      "File \u001B[1;32m~\\Documents\\Ignacio\\GitHub\\sensor-anomalies\\venv\\lib\\site-packages\\matplotlib\\markers.py:780\u001B[0m, in \u001B[0;36mMarkerStyle._set_tickup\u001B[1;34m(self)\u001B[0m\n\u001B[0;32m    779\u001B[0m \u001B[38;5;28;01mdef\u001B[39;00m \u001B[38;5;21m_set_tickup\u001B[39m(\u001B[38;5;28mself\u001B[39m):\n\u001B[1;32m--> 780\u001B[0m     \u001B[38;5;28mself\u001B[39m\u001B[38;5;241m.\u001B[39m_transform \u001B[38;5;241m=\u001B[39m \u001B[43mAffine2D\u001B[49m\u001B[43m(\u001B[49m\u001B[43m)\u001B[49m\u001B[38;5;241m.\u001B[39mscale(\u001B[38;5;241m1.0\u001B[39m, \u001B[38;5;241m1.0\u001B[39m)\n\u001B[0;32m    781\u001B[0m     \u001B[38;5;28mself\u001B[39m\u001B[38;5;241m.\u001B[39m_snap_threshold \u001B[38;5;241m=\u001B[39m \u001B[38;5;241m1.0\u001B[39m\n\u001B[0;32m    782\u001B[0m     \u001B[38;5;28mself\u001B[39m\u001B[38;5;241m.\u001B[39m_filled \u001B[38;5;241m=\u001B[39m \u001B[38;5;28;01mFalse\u001B[39;00m\n",
      "File \u001B[1;32m~\\Documents\\Ignacio\\GitHub\\sensor-anomalies\\venv\\lib\\site-packages\\matplotlib\\transforms.py:1903\u001B[0m, in \u001B[0;36mAffine2D.__init__\u001B[1;34m(self, matrix, **kwargs)\u001B[0m\n\u001B[0;32m   1900\u001B[0m \u001B[38;5;28;01mif\u001B[39;00m matrix \u001B[38;5;129;01mis\u001B[39;00m \u001B[38;5;28;01mNone\u001B[39;00m:\n\u001B[0;32m   1901\u001B[0m     \u001B[38;5;66;03m# A bit faster than np.identity(3).\u001B[39;00m\n\u001B[0;32m   1902\u001B[0m     matrix \u001B[38;5;241m=\u001B[39m IdentityTransform\u001B[38;5;241m.\u001B[39m_mtx\n\u001B[1;32m-> 1903\u001B[0m \u001B[38;5;28mself\u001B[39m\u001B[38;5;241m.\u001B[39m_mtx \u001B[38;5;241m=\u001B[39m \u001B[43mmatrix\u001B[49m\u001B[38;5;241;43m.\u001B[39;49m\u001B[43mcopy\u001B[49m\u001B[43m(\u001B[49m\u001B[43m)\u001B[49m\n\u001B[0;32m   1904\u001B[0m \u001B[38;5;28mself\u001B[39m\u001B[38;5;241m.\u001B[39m_invalid \u001B[38;5;241m=\u001B[39m \u001B[38;5;241m0\u001B[39m\n",
      "\u001B[1;31mKeyboardInterrupt\u001B[0m: "
     ]
    }
   ],
   "source": [
    "visualize_sensor_data(train)"
   ],
   "metadata": {
    "collapsed": false
   }
  },
  {
   "cell_type": "markdown",
   "source": [
    "It is clear that some signals are correlated, others show cyclical behavior, and others have discrete outputs (analog). Moreover, some initialization can be seen at the beginning, and it takes some time for the signals to reach their regular values. In order to build a good anomaly detector, the first datapoints will be removed to get the train data behaving as normally as possible."
   ],
   "metadata": {
    "collapsed": false
   }
  },
  {
   "cell_type": "code",
   "execution_count": null,
   "outputs": [],
   "source": [
    "visualize_sensor_data(train[train['Timestamp'] > '2015-12-23'])"
   ],
   "metadata": {
    "collapsed": false
   }
  },
  {
   "cell_type": "markdown",
   "source": [
    "Great, train data now shows normal behavor. How does the test data look?"
   ],
   "metadata": {
    "collapsed": false
   }
  },
  {
   "cell_type": "code",
   "execution_count": null,
   "outputs": [],
   "source": [
    "visualize_sensor_data(test)"
   ],
   "metadata": {
    "collapsed": false
   }
  },
  {
   "cell_type": "markdown",
   "source": [
    "It is clear that this test data shows weird behavior and many anomalies."
   ],
   "metadata": {
    "collapsed": false
   }
  },
  {
   "cell_type": "markdown",
   "source": [
    "# Choosing a signal\n",
    "Sensor LIT101 will be used to check for anomalies, as it shows some interesting cyclical beahavior and clear anomalies."
   ],
   "metadata": {
    "collapsed": false
   }
  },
  {
   "cell_type": "code",
   "execution_count": null,
   "outputs": [],
   "source": [
    "visualize_sensor_data(train, sensors=['LIT101'])"
   ],
   "metadata": {
    "collapsed": false
   }
  },
  {
   "cell_type": "code",
   "execution_count": null,
   "outputs": [],
   "source": [
    "visualize_sensor_data(test, sensors=['LIT101'])"
   ],
   "metadata": {
    "collapsed": false
   }
  }
 ],
 "metadata": {
  "kernelspec": {
   "display_name": "Python 3",
   "language": "python",
   "name": "python3"
  },
  "language_info": {
   "codemirror_mode": {
    "name": "ipython",
    "version": 2
   },
   "file_extension": ".py",
   "mimetype": "text/x-python",
   "name": "python",
   "nbconvert_exporter": "python",
   "pygments_lexer": "ipython2",
   "version": "2.7.6"
  }
 },
 "nbformat": 4,
 "nbformat_minor": 0
}
